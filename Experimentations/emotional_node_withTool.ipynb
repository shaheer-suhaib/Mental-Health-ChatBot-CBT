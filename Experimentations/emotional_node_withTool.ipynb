{
 "cells": [
  {
   "cell_type": "code",
   "execution_count": 10,
   "id": "7539c6bd",
   "metadata": {},
   "outputs": [],
   "source": [
    "from langgraph.graph import StateGraph, END\n",
    "from langgraph.prebuilt import ToolNode\n",
    "from langchain_openai import ChatOpenAI\n",
    "from langchain_core.tools import tool\n",
    "import os"
   ]
  },
  {
   "cell_type": "code",
   "execution_count": null,
   "id": "3333dfa1",
   "metadata": {},
   "outputs": [],
   "source": [
    "from langchain_google_genai import ChatGoogleGenerativeAI\n",
    "\n",
    "llm = ChatGoogleGenerativeAI(model=\"gemini-1.5-flash\",google_api_key=GEMINI_API_KEY )\n"
   ]
  },
  {
   "cell_type": "code",
   "execution_count": null,
   "id": "33a7bd8e",
   "metadata": {},
   "outputs": [
    {
     "data": {
      "text/plain": [
       "<langgraph.graph.state.StateGraph at 0x22cf7022cf0>"
      ]
     },
     "execution_count": 39,
     "metadata": {},
     "output_type": "execute_result"
    }
   ],
   "source": [
    "from typing import TypedDict, Annotated, Sequence\n",
    "from langchain_core.tools import tool\n",
    "from langchain_core.messages import BaseMessage, SystemMessage\n",
    "# from langchain_core.utils.function_calling import add_messages\n",
    "from operator import add as add_messages\n",
    "from langgraph.graph import StateGraph, END\n",
    "from langgraph.prebuilt import ToolNode\n",
    "\n",
    "\n",
    "class AgentState(TypedDict):\n",
    "    messages: Annotated[Sequence[BaseMessage], add_messages]\n",
    "\n",
    "\n",
    "\n",
    "def app_stream(content):\n",
    "    print(\"🌀 State:\", content)\n",
    "\n",
    "\n",
    "@tool\n",
    "def run_phq9_assessment() -> dict:\n",
    "    \"\"\"Run PHQ-9 depression screening assessment FOR user if it is needed\"\"\"\n",
    "    print(\"🔧 Running PHQ-9 Assessment\")\n",
    "    questions = [\n",
    "        \"Over the last 2 weeks, how often have you felt little interest or pleasure in doing things?\",\n",
    "        \"How often have you felt down, depressed, or hopeless?\",\n",
    "        \"How often have you had trouble falling or staying asleep?\"\n",
    "    ]\n",
    "    answers = []\n",
    "    for q in questions:\n",
    "        print(\"🤖:\", q)\n",
    "        a = input(\"You: \")\n",
    "        answers.append(a)\n",
    "    score = sum(3 for a in answers if \"yes\" in a.lower() or \"often\" in a.lower())\n",
    "    return {\"tool_name\": \"PHQ9\", \"score\": score}\n",
    "\n",
    "\n",
    "@tool\n",
    "def run_gad7_assessment() -> dict:\n",
    "    \"\"\"Run GAD-7 anxiety screening assessment FOR user if it is needed\"\"\"\n",
    "\n",
    "   \n",
    "\n",
    "    print(\"🔧 Running GAD-7 Assessment\")\n",
    "    questions = [\n",
    "        \"Have you been feeling nervous or on edge?\",\n",
    "        \"Do you find it difficult to stop worrying?\",\n",
    "        \"Do you feel easily irritated?\"\n",
    "    ]\n",
    "    answers = []\n",
    "    for q in questions:\n",
    "        print(\"🤖:\", q)\n",
    "        a = input(\"You: \")\n",
    "        answers.append(a)\n",
    "    score = sum(3 for a in answers if \"yes\" in a.lower() or \"often\" in a.lower())\n",
    "    return {\"tool_name\": \"GAD7\", \"score\": score}\n",
    "\n",
    "\n",
    "tools = [run_phq9_assessment, run_gad7_assessment]\n",
    "\n",
    "llm_with_tools = llm.bind_tools(tools)\n",
    "\n",
    "\n",
    "\n",
    "def emotional_check_in_node(state: AgentState) -> AgentState:\n",
    "    system_prompt = SystemMessage(\n",
    "        content=\"You are a compassionate emotional helper  assistant. Note that If the user needs further help, call an appropriate assessment tool[run_phq9_assessment or run_gad7_assessment].\" #Do not call the tool at the start , call only the if you feel that user need to be assessed with tools  \"\n",
    "    )\n",
    "    response = llm_with_tools.invoke([system_prompt] + state[\"messages\"])\n",
    "    return {\"messages\": [response]}\n",
    "\n",
    "\n",
    "\n",
    "def should_continue(state: AgentState) -> str:\n",
    "    last = state[\"messages\"][-1]\n",
    "    if not getattr(last, \"tool_calls\", None):\n",
    "        return \"end\"\n",
    "    return \"continue\"\n",
    "\n",
    "\n",
    "\n",
    "builder = StateGraph(AgentState)\n",
    "\n",
    "# Tool Node\n",
    "tool_node = ToolNode(tools=tools)\n",
    "builder.add_node(\"PHQ9/GAD-7 TOOLS\", tool_node)\n",
    "\n",
    "builder.add_node(\"emotional_check_in_node\", emotional_check_in_node)\n",
    "\n",
    "builder.add_edge(\"PHQ9/GAD-7 TOOLS\", \"emotional_check_in_node\")\n",
    "builder.add_conditional_edges(\n",
    "    \"emotional_check_in_node\",\n",
    "    should_continue,\n",
    "    {\n",
    "        \"continue\": \"PHQ9/GAD-7 TOOLS\",\n",
    "        \"end\": END,\n",
    "    }\n",
    ")\n",
    "\n",
    "builder.set_entry_point(\"emotional_check_in_node\")\n",
    "\n"
   ]
  },
  {
   "cell_type": "code",
   "execution_count": 29,
   "id": "409cee79",
   "metadata": {},
   "outputs": [
    {
     "data": {
      "image/png": "[encoded data removed]",
      "text/plain": [
       "<langgraph.graph.state.CompiledStateGraph object at 0x0000022CF7055520>"
      ]
     },
     "execution_count": 29,
     "metadata": {},
     "output_type": "execute_result"
    }
   ],
   "source": [
    "builder.compile()\n"
   ]
  },
  {
   "cell_type": "code",
   "execution_count": 40,
   "id": "3438cfaa",
   "metadata": {},
   "outputs": [],
   "source": [
    "graph = builder.compile()\n"
   ]
  },
  {
   "cell_type": "code",
   "execution_count": null,
   "id": "5db3be2a",
   "metadata": {},
   "outputs": [
    {
     "name": "stdout",
     "output_type": "stream",
     "text": [
      "🌀 State: {'emotional_check_in_node': {'messages': [AIMessage(content='', additional_kwargs={'function_call': {'name': 'run_phq9_assessment', 'arguments': '{}'}}, response_metadata={'prompt_feedback': {'block_reason': 0, 'safety_ratings': []}, 'finish_reason': 'STOP', 'model_name': 'gemini-1.5-flash', 'safety_ratings': []}, id='run--b9fccfda-990a-4f60-86fd-3234a85b8db4-0', tool_calls=[{'name': 'run_phq9_assessment', 'args': {}, 'id': '523b8b8e-7c18-4862-bd56-1ee311619318', 'type': 'tool_call'}])]}}\n",
      "🔧 Running PHQ-9 Assessment\n",
      "🤖: Over the last 2 weeks, how often have you felt little interest or pleasure in doing things?\n",
      "🤖: How often have you felt down, depressed, or hopeless?\n",
      "🤖: How often have you had trouble falling or staying asleep?\n",
      "🌀 State: {'PHQ9/GAD-7 TOOLS': {'messages': [ToolMessage(content='{\"tool_name\": \"PHQ9\", \"score\": 9}', name='run_phq9_assessment', tool_call_id='523b8b8e-7c18-4862-bd56-1ee311619318')]}}\n",
      "🌀 State: {'emotional_check_in_node': {'messages': [AIMessage(content=\"Your PHQ-9 score is 9.  A score of 10 or higher often suggests the possibility of depression.  Given your score, it's important to talk to a healthcare professional. They can provide a proper diagnosis and recommend appropriate treatment options. Would you like me to help you find resources for mental health support?\", additional_kwargs={}, response_metadata={'prompt_feedback': {'block_reason': 0, 'safety_ratings': []}, 'finish_reason': 'STOP', 'model_name': 'gemini-1.5-flash', 'safety_ratings': []}, id='run--f07a54bb-1e6c-40c9-b640-92bbd4e9d3cc-0')]}}\n"
     ]
    }
   ],
   "source": [
    "\n",
    "\n",
    "\n",
    "initial_state: AgentState = {\n",
    "    \"messages\": [(\"user\", \"Hi run phq9 test for me now pleae\")]\n",
    "}\n",
    "\n",
    "for step in graph.stream(initial_state):\n",
    "    app_stream(step)"
   ]
  },
  {
   "cell_type": "code",
   "execution_count": null,
   "id": "541af8c0",
   "metadata": {},
   "outputs": [
    {
     "name": "stdout",
     "output_type": "stream",
     "text": [
      "🌀 State: {'emotional_check_in_node': {'messages': [AIMessage(content='', additional_kwargs={'function_call': {'name': 'run_gad7_assessment', 'arguments': '{}'}}, response_metadata={'prompt_feedback': {'block_reason': 0, 'safety_ratings': []}, 'finish_reason': 'STOP', 'model_name': 'gemini-1.5-flash', 'safety_ratings': []}, id='run--9200b345-b0d7-416d-976e-bb25778f8b1a-0', tool_calls=[{'name': 'run_gad7_assessment', 'args': {}, 'id': '31b52c1f-a6c5-4fc3-a6fe-4b692d2bd93f', 'type': 'tool_call'}])]}}\n",
      "🔧 Running GAD-7 Assessment\n",
      "🤖: Have you been feeling nervous or on edge?\n",
      "🤖: Do you find it difficult to stop worrying?\n",
      "🤖: Do you feel easily irritated?\n",
      "🌀 State: {'PHQ9/GAD-7 TOOLS': {'messages': [ToolMessage(content='{\"tool_name\": \"GAD7\", \"score\": 9}', name='run_gad7_assessment', tool_call_id='31b52c1f-a6c5-4fc3-a6fe-4b692d2bd93f')]}}\n",
      "🌀 State: {'emotional_check_in_node': {'messages': [AIMessage(content=\"Your GAD-7 score is 9.  A score of 8 or higher suggests that you may have an anxiety disorder.  It's important to remember that this is just a screening tool, and it's not a diagnosis.  To get a proper diagnosis and discuss treatment options, I strongly recommend that you schedule an appointment with a doctor or mental health professional.  They can provide a more thorough evaluation and help you develop a treatment plan if needed.  Would you like help finding resources to find a mental health professional in your area?\", additional_kwargs={}, response_metadata={'prompt_feedback': {'block_reason': 0, 'safety_ratings': []}, 'finish_reason': 'STOP', 'model_name': 'gemini-1.5-flash', 'safety_ratings': []}, id='run--0ae9a63b-381f-4129-99dd-994e1d1d6ea9-0')]}}\n"
     ]
    }
   ],
   "source": [
    "\n",
    "\n",
    "\n",
    "initial_state: AgentState = {\n",
    "    \"messages\": [(\"user\", \"Hi run GAD-7 test for me now pleae\")]\n",
    "}\n",
    "\n",
    "for step in graph.stream(initial_state):\n",
    "    app_stream(step)"
   ]
  },
  {
   "cell_type": "code",
   "execution_count": null,
   "id": "a12b5094",
   "metadata": {},
   "outputs": [],
   "source": []
  },
  {
   "cell_type": "code",
   "execution_count": null,
   "id": "3ffa7dc5",
   "metadata": {},
   "outputs": [],
   "source": []
  }
 ],
 "metadata": {
  "kernelspec": {
   "display_name": "Python 3",
   "language": "python",
   "name": "python3"
  },
  "language_info": {
   "codemirror_mode": {
    "name": "ipython",
    "version": 3
   },
   "file_extension": ".py",
   "mimetype": "text/x-python",
   "name": "python",
   "nbconvert_exporter": "python",
   "pygments_lexer": "ipython3",
   "version": "3.12.4"
  }
 },
 "nbformat": 4,
 "nbformat_minor": 5
}
