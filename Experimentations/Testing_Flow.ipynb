{
 "cells": [
  {
   "cell_type": "code",
   "execution_count": 3,
   "id": "304bddc7",
   "metadata": {},
   "outputs": [],
   "source": [
    "from langgraph.graph import StateGraph, END\n",
    "\n",
    "from typing import TypedDict, Annotated, Sequence,List, Union\n",
    "from langchain_core.messages import BaseMessage, SystemMessage, HumanMessage, ToolMessage\n",
    "from operator import add as add_messages\n",
    "from langgraph.prebuilt import ToolNode\n",
    "import json\n",
    "import re"
   ]
  },
  {
   "cell_type": "code",
   "execution_count": 4,
   "id": "8e42b918",
   "metadata": {},
   "outputs": [],
   "source": [
    "import google.generativeai as genai\n",
    "from google.generativeai.types import GenerationConfig"
   ]
  },
  {
   "cell_type": "code",
   "execution_count": 5,
   "id": "afb6e409",
   "metadata": {},
   "outputs": [],
   "source": [
    "from langchain.tools import tool"
   ]
  },
  {
   "cell_type": "code",
   "execution_count": null,
   "id": "60244e67",
   "metadata": {},
   "outputs": [],
   "source": [
    "\n",
    "llm_json = genai.GenerativeModel(\n",
    "    model_name=\"gemini-1.5-flash\",\n",
    "    generation_config=GenerationConfig(\n",
    "        response_mime_type=\"application/json\",\n",
    "        temperature=0\n",
    "    )\n",
    ")"
   ]
  },
  {
   "cell_type": "code",
   "execution_count": 7,
   "id": "b4d08498",
   "metadata": {},
   "outputs": [],
   "source": [
    "class AgentState(TypedDict):\n",
    "   \n",
    "    messages: Annotated[Sequence[BaseMessage], add_messages]\n",
    "\n",
    "    # Current stage\n",
    "    stage: str \n",
    "\n",
    "    # Intake information\n",
    "    presenting_problem: str       \n",
    "    history: str                \n",
    "\n",
    "    #  Case formulation (abc model)\n",
    "    activating_event: str        \n",
    "    beliefs: List[str]           \n",
    "    consequences: List[str]       \n",
    "\n",
    "  \n",
    "    # LLM & Routing\n",
    "    last_user_message: str            \n",
    "    next_node: Union[str,bool]                   \n",
    "\n",
    "  \n",
    "    ready_to_end: bool  "
   ]
  },
  {
   "cell_type": "code",
   "execution_count": null,
   "id": "b4c105a9",
   "metadata": {},
   "outputs": [],
   "source": [
    "from langchain_google_genai import ChatGoogleGenerativeAI\n",
    "\n",
    "\n",
    "llm = ChatGoogleGenerativeAI(model=\"gemini-1.5-flash\",google_api_key=GEMINI_API_KEY )\n"
   ]
  },
  {
   "cell_type": "code",
   "execution_count": null,
   "id": "29f565f6",
   "metadata": {},
   "outputs": [],
   "source": []
  },
  {
   "cell_type": "markdown",
   "id": "fd76908e",
   "metadata": {},
   "source": [
    "# defining nodes"
   ]
  },
  {
   "cell_type": "code",
   "execution_count": 9,
   "id": "e354ffdf",
   "metadata": {},
   "outputs": [],
   "source": [
    "def intake_node(self, state: AgentState) -> AgentState:\n",
    "      \n",
    "\n",
    "       \n",
    "        human_messages = [msg for msg in state[\"messages\"] if isinstance(msg, HumanMessage)]\n",
    "        if not human_messages:\n",
    "            raise ValueError(\"No user message found for intake.\")\n",
    "\n",
    "        user_input = human_messages[0].content\n",
    "\n",
    "       \n",
    "        prompt = (\n",
    "            \"You are a CBT assistant.\\n\"\n",
    "            \"Extract the user's presenting problem and a brief emotional history from this message:\\n\\n\"\n",
    "            f\"{user_input}\\n\\n\"\n",
    "            \"Respond ONLY with valid JSON in this exact format:\\n\"\n",
    "            \"{\\n\"\n",
    "            \"  \\\"presenting_problem\\\": \\\"...\\\",\\n\"\n",
    "            \"  \\\"history\\\": \\\"...\\\"\\n\"\n",
    "            \"}\"\n",
    "        )\n",
    "\n",
    "        # messages = [SystemMessage(content=prompt)] + state[\"messages\"]\n",
    "\n",
    "    \n",
    "        # response = self.llm.invoke(messages)\n",
    "        response = self.llm.invoke([SystemMessage(content=prompt), HumanMessage(content=user_input)])\n",
    "\n",
    "        \n",
    "        response_content = response.content\n",
    "        \n",
    "        \n",
    "        if isinstance(response_content, str):\n",
    "            # Remove markdown code blocks if present\n",
    "            json_match = re.search(r'```(?:json)?\\s*(\\{.*?\\})\\s*```', response_content, re.DOTALL)\n",
    "            if json_match:\n",
    "                response_content = json_match.group(1)\n",
    "            else:\n",
    "                # Try to find JSON object in the text\n",
    "                json_match = re.search(r'\\{.*?\\}', response_content, re.DOTALL)\n",
    "                if json_match:\n",
    "                    response_content = json_match.group(0)\n",
    "        \n",
    "        # Parse the JSON\n",
    "        try:\n",
    "            if isinstance(response_content, dict):\n",
    "                result = response_content\n",
    "            else:\n",
    "                result = json.loads(response_content)\n",
    "        except (json.JSONDecodeError, TypeError):\n",
    "            # Fallback: create a simple result\n",
    "            result = {\n",
    "                \"presenting_problem\": user_input,\n",
    "                \"history\": \"No specific history provided\"\n",
    "            }\n",
    "\n",
    "        \n",
    "        return {\n",
    "            # \"messages\": messages + [response],\n",
    "\n",
    "            \"messages\": [SystemMessage(content=prompt), response],\n",
    "            \"stage\": \"case_formulation_node\",\n",
    "            \"presenting_problem\": result.get(\"presenting_problem\", \"\"),\n",
    "            \"history\": result.get(\"history\", \"\"),\n",
    "            \"activating_event\": \"\",\n",
    "            \"beliefs\": [],\n",
    "            \"consequences\": [],\n",
    "            \"last_user_message\": user_input,\n",
    "            \"next_node\": \"\",\n",
    "            \"ready_to_end\": False\n",
    "        }\n",
    "\n",
    "  "
   ]
  },
  {
   "cell_type": "code",
   "execution_count": null,
   "id": "63d4978d",
   "metadata": {},
   "outputs": [
    {
     "data": {
      "text/plain": [
       "<langgraph.graph.state.StateGraph at 0x20a81c9d880>"
      ]
     },
     "execution_count": 13,
     "metadata": {},
     "output_type": "execute_result"
    }
   ],
   "source": [
    "# graph = StateGraph(AgentState)\n",
    "# graph.add_node(\"intake_node\", intake_node)\n",
    "# graph.set_entry_point(\"intake_node\")\n",
    "# graph.set_finish_point(\"intake_node\")\n"
   ]
  },
  {
   "cell_type": "code",
   "execution_count": 14,
   "id": "8b2f271c",
   "metadata": {},
   "outputs": [
    {
     "data": {
      "image/png": "[encoded data removed]",
      "text/plain": [
       "<langgraph.graph.state.CompiledStateGraph object at 0x0000020A81F14110>"
      ]
     },
     "execution_count": 14,
     "metadata": {},
     "output_type": "execute_result"
    }
   ],
   "source": [
    "graph.compile()"
   ]
  },
  {
   "cell_type": "code",
   "execution_count": null,
   "id": "e9643897",
   "metadata": {},
   "outputs": [],
   "source": [
    "# app = graph.compile()"
   ]
  },
  {
   "cell_type": "code",
   "execution_count": null,
   "id": "017a8ae8",
   "metadata": {},
   "outputs": [
    {
     "name": "stdout",
     "output_type": "stream",
     "text": [
      "Invoking the CBT chatbot graph...\n",
      "\n",
      "=== CBT Chatbot Output ===\n",
      "Stage: case_formulation_node\n",
      "Presenting Problem: Yelling at son; feelings of guilt and self-criticism as a parent.\n",
      "History: Unspecified, requires further exploration.\n",
      "Last User Message: I yelled at my son today. I feel like a horrible parent.\n",
      "Ready to End: False\n",
      "\n",
      "=== Messages ===\n",
      "Message 0: HumanMessage - I yelled at my son today. I feel like a horrible parent....\n",
      "Message 1: SystemMessage - You are a CBT assistant.\n",
      "Extract the user's presenting problem and a brief emotional history from th...\n",
      "Message 2: HumanMessage - I yelled at my son today. I feel like a horrible parent....\n",
      "Message 3: AIMessage - ```json\n",
      "{\n",
      "  \"presenting_problem\": \"Yelling at son; feelings of guilt and self-criticism as a parent....\n"
     ]
    }
   ],
   "source": [
    "\n",
    "# # Test the graph with user input\n",
    "# if __name__ == \"__main__\":\n",
    "#     user_input = \"I yelled at my son today. I feel like a horrible parent.\"\n",
    "#     messages = [HumanMessage(content=user_input)]\n",
    "    \n",
    "#     # Create initial state\n",
    "#     initial_state = {          ##3333333???????\n",
    "#         \"messages\": messages,\n",
    "#         \"stage\": \"intake_node\",\n",
    "#         \"presenting_problem\": \"\",\n",
    "#         \"history\": \"\",\n",
    "#         \"activating_event\": \"\",\n",
    "#         \"beliefs\": [],\n",
    "#         \"consequences\": [],\n",
    "#         \"last_user_message\": \"\",\n",
    "#         \"next_node\": \"\",\n",
    "#         \"ready_to_end\": False\n",
    "#     }\n",
    "    \n",
    "#     # Invoke the graph\n",
    "#     print(\"Invoking the CBT chatbot graph...\")\n",
    "#     output = app.invoke(initial_state)\n",
    "    \n",
    "#     print(\"\\n=== CBT Chatbot Output ===\")\n",
    "#     print(f\"Stage: {output['stage']}\")\n",
    "#     print(f\"Presenting Problem: {output['presenting_problem']}\")\n",
    "#     print(f\"History: {output['history']}\")\n",
    "#     print(f\"Last User Message: {output['last_user_message']}\")\n",
    "#     print(f\"Ready to End: {output['ready_to_end']}\")\n",
    "    \n",
    "#     print(\"\\n=== Messages ===\")\n",
    "#     for i, msg in enumerate(output['messages']):\n",
    "#         print(f\"Message {i}: {type(msg).__name__} - {msg.content[:100]}...\")\n"
   ]
  },
  {
   "cell_type": "code",
   "execution_count": 10,
   "id": "14967ba8",
   "metadata": {},
   "outputs": [],
   "source": [
    "def case_formulation_node(self, state: AgentState) -> AgentState:\n",
    "        presenting_problem = state[\"presenting_problem\"]\n",
    "\n",
    "        prompt = (\n",
    "            \"You are a CBT assistant.\\n\"\n",
    "            \"Given this user's presenting problem, extract as much of the ABC model as possible:\\n\"\n",
    "            \"- A (Activating Event): what clearly happened?\\n\"\n",
    "            \"- B (Beliefs): only include if user directly stated their thoughts or judgments\\n\"\n",
    "            \"- C (Consequences): only include if emotions or actions are clearly stated\\n\\n\"\n",
    "            f\"Presenting Problem:\\n{presenting_problem}\\n\\n\"\n",
    "            \"Respond in this EXACT format:\\n\"\n",
    "            \"{\\n\"\n",
    "            \"  \\\"activating_event\\\": \\\"...\\\",\\n\"\n",
    "            \"  \\\"beliefs\\\": [\\\"...\\\", \\\"...\\\"],\\n\"\n",
    "            \"  \\\"consequences\\\": [\\\"...\\\", \\\"...\\\"]\\n\"\n",
    "            \"}\"\n",
    "        )\n",
    "\n",
    "        \n",
    "        response = self.llm_json.generate_content(prompt)\n",
    "        \n",
    "       \n",
    "        content = response.text.strip()\n",
    "        \n",
    "        try:\n",
    "            result = json.loads(content)\n",
    "        except:\n",
    "            result = {}\n",
    "\n",
    "        return {\n",
    "            **state,\n",
    "            # \"messages\": state[\"messages\"] + [HumanMessage(content=response.text)],\n",
    "            \"messages\": [HumanMessage(content=f'{{\"activating_event\": \"{result.get(\"activating_event\", \"\")}\", \"beliefs\": {result.get(\"beliefs\", [])}, \"consequences\": {result.get(\"consequences\", [])}}}')],\n",
    "            \"stage\": \"goal_setting_node\",\n",
    "            \"activating_event\": result.get(\"activating_event\", \"\"),\n",
    "            \"beliefs\": result.get(\"beliefs\", []),\n",
    "            \"consequences\": result.get(\"consequences\", [])\n",
    "        }\n",
    "\n"
   ]
  },
  {
   "cell_type": "code",
   "execution_count": 48,
   "id": "39ed0a00",
   "metadata": {},
   "outputs": [
    {
     "data": {
      "image/png": "[encoded data removed]",
      "text/plain": [
       "<langgraph.graph.state.CompiledStateGraph object at 0x0000020A83C063C0>"
      ]
     },
     "execution_count": 48,
     "metadata": {},
     "output_type": "execute_result"
    }
   ],
   "source": [
    "graph = StateGraph(AgentState)\n",
    "graph.add_node(\"intake_node\", intake_node)\n",
    "graph.add_node(\"Case_Formulatin\", case_formulation_node)\n",
    "\n",
    "graph.set_entry_point(\"intake_node\")\n",
    "graph.add_edge(\"intake_node\",\"Case_Formulatin\")\n",
    "graph.set_finish_point(\"Case_Formulatin\")\n",
    "graph.compile()"
   ]
  },
  {
   "cell_type": "code",
   "execution_count": 49,
   "id": "d40dfc54",
   "metadata": {},
   "outputs": [],
   "source": [
    "app = graph.compile()"
   ]
  },
  {
   "cell_type": "code",
   "execution_count": null,
   "id": "c8be8472",
   "metadata": {},
   "outputs": [
    {
     "name": "stdout",
     "output_type": "stream",
     "text": [
      "Invoking the CBT chatbot graph...\n",
      "\n",
      "=== CBT Chatbot Output ===\n",
      "Stage: goal_setting_node\n",
      "Presenting Problem: Yelling at son, feeling like a horrible parent\n",
      "History: Unspecified, but implied negative feelings related to parenting.\n",
      "Last User Message: I yelled at my son today. I feel like a horrible parent.\n",
      "Ready to End: False\n",
      "\n",
      "=== Messages ===\n",
      "Message 0: HumanMessage - I yelled at my son today. I feel like a horrible parent....\n",
      "Message 1: SystemMessage - You are a CBT assistant.\n",
      "Extract the user's presenting problem and a brief emotional history from this message:\n",
      "\n",
      "I yelled at my son today. I feel like a horrible parent.\n",
      "\n",
      "Respond ONLY with valid JSON in this exact format:\n",
      "{\n",
      "  \"presenting_problem\": \"...\",\n",
      "  \"history\": \"...\"\n",
      "}...\n",
      "Message 2: HumanMessage - I yelled at my son today. I feel like a horrible parent....\n",
      "Message 3: AIMessage - ```json\n",
      "{\n",
      "  \"presenting_problem\": \"Yelling at son, feeling like a horrible parent\",\n",
      "  \"history\": \"Unspecified, but implied negative feelings related to parenting.\"\n",
      "}\n",
      "```...\n",
      "Message 4: HumanMessage - I yelled at my son today. I feel like a horrible parent....\n",
      "Message 5: SystemMessage - You are a CBT assistant.\n",
      "Extract the user's presenting problem and a brief emotional history from this message:\n",
      "\n",
      "I yelled at my son today. I feel like a horrible parent.\n",
      "\n",
      "Respond ONLY with valid JSON in this exact format:\n",
      "{\n",
      "  \"presenting_problem\": \"...\",\n",
      "  \"history\": \"...\"\n",
      "}...\n",
      "Message 6: HumanMessage - I yelled at my son today. I feel like a horrible parent....\n",
      "Message 7: AIMessage - ```json\n",
      "{\n",
      "  \"presenting_problem\": \"Yelling at son, feeling like a horrible parent\",\n",
      "  \"history\": \"Unspecified, but implied negative feelings related to parenting.\"\n",
      "}\n",
      "```...\n",
      "Message 8: HumanMessage - {\"activating_event\": \"Yelling at son\", \"beliefs\": [], \"consequences\": [\"feeling like a horrible parent\"]}...\n"
     ]
    }
   ],
   "source": [
    "\n",
    "if __name__ == \"__main__\":\n",
    "    user_input = \"I yelled at my son today. I feel like a horrible parent.\"\n",
    "    messages = [HumanMessage(content=user_input)]\n",
    "    \n",
    "    # Create initial state\n",
    "    initial_state = {          ##3333333???????\n",
    "        \"messages\": messages,\n",
    "        \"stage\": \"intake_node\",\n",
    "        \"presenting_problem\": \"\",\n",
    "        \"history\": \"\",\n",
    "        \"activating_event\": \"\",\n",
    "        \"beliefs\": [],\n",
    "        \"consequences\": [],\n",
    "        \"last_user_message\": \"\",\n",
    "        \"next_node\": \"\",\n",
    "        \"ready_to_end\": False\n",
    "    }\n",
    "    \n",
    "  \n",
    "    print(\"Invoking the CBT chatbot graph...\")\n",
    "    output = app.invoke(initial_state)\n",
    "    \n",
    "    print(\"\\n=== CBT Chatbot Output ===\")\n",
    "    print(f\"Stage: {output['stage']}\")\n",
    "    print(f\"Presenting Problem: {output['presenting_problem']}\")\n",
    "    print(f\"History: {output['history']}\")\n",
    "    print(f\"Last User Message: {output['last_user_message']}\")\n",
    "    print(f\"Ready to End: {output['ready_to_end']}\")\n",
    "    \n",
    "    print(\"\\n=== Messages ===\")\n",
    "    for i, msg in enumerate(output['messages']):\n",
    "        print(f\"Message {i}: {type(msg).__name__} - {msg.content[:1000]}...\")\n"
   ]
  },
  {
   "cell_type": "code",
   "execution_count": 51,
   "id": "05bbe5d0",
   "metadata": {},
   "outputs": [
    {
     "name": "stdout",
     "output_type": "stream",
     "text": [
      "activating_event: Yelling at son\n",
      "Belief: []\n",
      "Consequences: ['feeling like a horrible parent']\n"
     ]
    }
   ],
   "source": [
    "print(f\"activating_event: {output['activating_event']}\")\n",
    "print(f\"Belief: {output['beliefs']}\")\n",
    "print(f\"Consequences: {output['consequences']}\")\n"
   ]
  },
  {
   "cell_type": "markdown",
   "id": "1e1e9458",
   "metadata": {},
   "source": [
    "# router node"
   ]
  },
  {
   "cell_type": "code",
   "execution_count": 11,
   "id": "f394ccad",
   "metadata": {},
   "outputs": [],
   "source": [
    "def router_node(self, state: AgentState) -> AgentState:\n",
    "      \n",
    "        \n",
    "        prompt = (\n",
    "            \"You are a CBT workflow assistant. Choose the next most appropriate therapeutic step.\\n\\n\"\n",
    "            \"Current State:\\n\"\n",
    "            f\"Presenting Problem: {state['presenting_problem']}\\n\"\n",
    "            f\"History: {state['history']}\\n\"\n",
    "            f\"Activating Event: {state['activating_event']}\\n\"\n",
    "            f\"Beliefs: {state['beliefs']}\\n\"\n",
    "            f\"Consequences: {state['consequences']}\\n\"\n",
    "            f\"Last User Message: {state['last_user_message']}\\n\\n\"\n",
    "            \"Available Options:\\n\"\n",
    "            \"- emotional_check_in: If user shows distress, negative emotions, or needs emotional support\\n\"\n",
    "            \"- psychoeducation: If user needs to understand CBT concepts or coping strategies\\n\"\n",
    "            \"- emergency_support: If there are signs of crisis, panic, or suicidal thoughts\\n\"\n",
    "            \"- problem_solving: If user is stuck or needs practical solutions\\n\"\n",
    "            \"- goal_setting_node: If ready to set therapeutic goals\\n\\n\"\n",
    "            \"Respond in this EXACT format:\\n\"\n",
    "            \"{\\n\"\n",
    "            \"  \\\"next_node\\\": \\\"...\\\",\\n\"\n",
    "            \"  \\\"reasoning\\\": \\\"...\\\"\\n\"\n",
    "            \"}\"\n",
    "        )\n",
    "        \n",
    "        response = self.llm_json.generate_content(prompt)\n",
    "        \n",
    "        # Parse JSON response\n",
    "        try:\n",
    "            result = json.loads(response.text.strip())\n",
    "            next_node = result.get(\"next_node\")\n",
    "            if not next_node:\n",
    "                raise ValueError(\"Missing next_node in response\")\n",
    "        except:\n",
    "            raise ValueError(\"Router failed to parse LLM response - check model configuration\")\n",
    "        \n",
    "        # Validate the response\n",
    "        valid_nodes = [\"emotional_check_in\", \"psychoeducation\", \"emergency_support\", \"problem_solving\", \"goal_setting_node\"]\n",
    "        if next_node not in valid_nodes:\n",
    "            raise ValueError(f\"Invalid next_node '{next_node}' - must be one of {valid_nodes}\")\n",
    "        \n",
    "        return {\n",
    "            **state,\n",
    "            \"next_node\": next_node,\n",
    "            \"stage\": \"router\"\n",
    "        }\n",
    "    \n",
    "   "
   ]
  },
  {
   "cell_type": "code",
   "execution_count": null,
   "id": "a62cdf44",
   "metadata": {},
   "outputs": [
    {
     "data": {
      "image/png": "[encoded data removed]",
      "text/plain": [
       "<langgraph.graph.state.CompiledStateGraph object at 0x0000020A83C58440>"
      ]
     },
     "execution_count": 54,
     "metadata": {},
     "output_type": "execute_result"
    }
   ],
   "source": [
    "graph = StateGraph(AgentState)\n",
    "graph.add_node(\"intake_node\", intake_node)\n",
    "graph.add_node(\"Case_Formulatin\", case_formulation_node)\n",
    "graph.add_node(\"router_node\", router_node)\n",
    "\n",
    "\n",
    "graph.set_entry_point(\"intake_node\")\n",
    "graph.add_edge(\"intake_node\",\"Case_Formulatin\")\n",
    "graph.add_edge(\"Case_Formulatin\",\"router_node\")\n",
    "\n",
    "\n",
    "graph.set_finish_point(\"router_node\")\n",
    "graph.compile()"
   ]
  },
  {
   "cell_type": "markdown",
   "id": "1f31abb3",
   "metadata": {},
   "source": [
    "## using different questions checking router output\n",
    "\n"
   ]
  },
  {
   "cell_type": "code",
   "execution_count": 62,
   "id": "247e24c6",
   "metadata": {},
   "outputs": [],
   "source": [
    "user_input = \"I yelled at my son today. I feel like a horrible parent.\"\n",
    "\n",
    "user_input = \"  i want to suicide\"\n",
    "\n",
    "user_input = \"  what is CBT\""
   ]
  },
  {
   "cell_type": "code",
   "execution_count": null,
   "id": "e6b2422a",
   "metadata": {},
   "outputs": [
    {
     "name": "stdout",
     "output_type": "stream",
     "text": [
      "Invoking the CBT chatbot graph...\n",
      "\n",
      "=== CBT Chatbot Output ===\n",
      "Stage: router\n",
      "Presenting Problem: The user is seeking information about CBT, suggesting a lack of knowledge about the therapy, not necessarily a specific mental health problem.\n",
      "History: No emotional history is provided.\n",
      "Last User Message:   what is CBT\n",
      "Ready to End: False\n",
      "\n",
      "=== Messages ===\n",
      "Message 0: HumanMessage -   what is CBT...\n",
      "Message 1: SystemMessage - You are a CBT assistant.\n",
      "Extract the user's presenting problem and a brief emotional history from this message:\n",
      "\n",
      "  what is CBT\n",
      "\n",
      "Respond ONLY with valid JSON in this exact format:\n",
      "{\n",
      "  \"presenting_problem\": \"...\",\n",
      "  \"history\": \"...\"\n",
      "}...\n",
      "Message 2: HumanMessage -   what is CBT...\n",
      "Message 3: AIMessage - ```json\n",
      "{\n",
      "  \"presenting_problem\": \"The user is seeking information about CBT, suggesting a lack of knowledge about the therapy, not necessarily a specific mental health problem.\",\n",
      "  \"history\": \"No emotional history is provided.\"\n",
      "}\n",
      "```...\n",
      "Message 4: HumanMessage -   what is CBT...\n",
      "Message 5: SystemMessage - You are a CBT assistant.\n",
      "Extract the user's presenting problem and a brief emotional history from this message:\n",
      "\n",
      "  what is CBT\n",
      "\n",
      "Respond ONLY with valid JSON in this exact format:\n",
      "{\n",
      "  \"presenting_problem\": \"...\",\n",
      "  \"history\": \"...\"\n",
      "}...\n",
      "Message 6: HumanMessage -   what is CBT...\n",
      "Message 7: AIMessage - ```json\n",
      "{\n",
      "  \"presenting_problem\": \"The user is seeking information about CBT, suggesting a lack of knowledge about the therapy, not necessarily a specific mental health problem.\",\n",
      "  \"history\": \"No emotional history is provided.\"\n",
      "}\n",
      "```...\n",
      "Message 8: HumanMessage - {\"activating_event\": \"User seeks information about CBT\", \"beliefs\": [], \"consequences\": []}...\n",
      "Message 9: HumanMessage -   what is CBT...\n",
      "Message 10: SystemMessage - You are a CBT assistant.\n",
      "Extract the user's presenting problem and a brief emotional history from this message:\n",
      "\n",
      "  what is CBT\n",
      "\n",
      "Respond ONLY with valid JSON in this exact format:\n",
      "{\n",
      "  \"presenting_problem\": \"...\",\n",
      "  \"history\": \"...\"\n",
      "}...\n",
      "Message 11: HumanMessage -   what is CBT...\n",
      "Message 12: AIMessage - ```json\n",
      "{\n",
      "  \"presenting_problem\": \"The user is seeking information about CBT, suggesting a lack of knowledge about the therapy, not necessarily a specific mental health problem.\",\n",
      "  \"history\": \"No emotional history is provided.\"\n",
      "}\n",
      "```...\n",
      "Message 13: HumanMessage -   what is CBT...\n",
      "Message 14: SystemMessage - You are a CBT assistant.\n",
      "Extract the user's presenting problem and a brief emotional history from this message:\n",
      "\n",
      "  what is CBT\n",
      "\n",
      "Respond ONLY with valid JSON in this exact format:\n",
      "{\n",
      "  \"presenting_problem\": \"...\",\n",
      "  \"history\": \"...\"\n",
      "}...\n",
      "Message 15: HumanMessage -   what is CBT...\n",
      "Message 16: AIMessage - ```json\n",
      "{\n",
      "  \"presenting_problem\": \"The user is seeking information about CBT, suggesting a lack of knowledge about the therapy, not necessarily a specific mental health problem.\",\n",
      "  \"history\": \"No emotional history is provided.\"\n",
      "}\n",
      "```...\n",
      "Message 17: HumanMessage - {\"activating_event\": \"User seeks information about CBT\", \"beliefs\": [], \"consequences\": []}...\n"
     ]
    }
   ],
   "source": [
    "app = graph.compile()\n",
    "\n",
    "\n",
    "if __name__ == \"__main__\":\n",
    "    user_input = user_input\n",
    "    messages = [HumanMessage(content=user_input)]\n",
    "    \n",
    "    # Create initial state\n",
    "    initial_state = {          ##3333333???????\n",
    "        \"messages\": messages,\n",
    "        \"stage\": \"intake_node\",\n",
    "        \"presenting_problem\": \"\",\n",
    "        \"history\": \"\",\n",
    "        \"activating_event\": \"\",\n",
    "        \"beliefs\": [],\n",
    "        \"consequences\": [],\n",
    "        \"last_user_message\": \"\",\n",
    "        \"next_node\": \"\",\n",
    "        \"ready_to_end\": False\n",
    "    }\n",
    "    \n",
    "   \n",
    "    print(\"Invoking the CBT chatbot graph...\")\n",
    "    output = app.invoke(initial_state)\n",
    "    \n",
    "    print(\"\\n=== CBT Chatbot Output ===\")\n",
    "    print(f\"Stage: {output['stage']}\")\n",
    "    print(f\"Presenting Problem: {output['presenting_problem']}\")\n",
    "    print(f\"History: {output['history']}\")\n",
    "    print(f\"Last User Message: {output['last_user_message']}\")\n",
    "    print(f\"Ready to End: {output['ready_to_end']}\")\n",
    "    \n",
    "    print(\"\\n=== Messages ===\")\n",
    "    for i, msg in enumerate(output['messages']):\n",
    "        print(f\"Message {i}: {type(msg).__name__} - {msg.content[:1000]}...\")\n"
   ]
  },
  {
   "cell_type": "code",
   "execution_count": 64,
   "id": "efe0ea96",
   "metadata": {},
   "outputs": [
    {
     "name": "stdout",
     "output_type": "stream",
     "text": [
      "next_node: psychoeducation\n"
     ]
    }
   ],
   "source": [
    "print(f\"next_node: {output['next_node']}\")\n",
    "\n"
   ]
  },
  {
   "cell_type": "markdown",
   "id": "2767cac6",
   "metadata": {},
   "source": []
  },
  {
   "cell_type": "markdown",
   "id": "97548f92",
   "metadata": {},
   "source": [
    "###  Adding TOOLS TO EMOTIONAL_CHECK_IN STAGE"
   ]
  },
  {
   "cell_type": "code",
   "execution_count": 12,
   "id": "c203d29e",
   "metadata": {},
   "outputs": [],
   "source": [
    "\n",
    "@tool\n",
    "def run_phq9_assessment() -> dict:\n",
    "    \"\"\"Run PHQ-9 depression screening assessment FOR user if it is needed\"\"\"\n",
    "    print(\"🔧 Running PHQ-9 Assessment\")\n",
    "    questions = [\n",
    "        \"Over the last 2 weeks, how often have you felt little interest or pleasure in doing things?\",\n",
    "        \"How often have you felt down, depressed, or hopeless?\",\n",
    "        \"How often have you had trouble falling or staying asleep?\"\n",
    "    ]\n",
    "    answers = []\n",
    "    for q in questions:\n",
    "        print(\"🤖:\", q)\n",
    "        a = input(\"You: \")\n",
    "        answers.append(a)\n",
    "    score = sum(3 for a in answers if \"yes\" in a.lower() or \"often\" in a.lower())\n",
    "    return {\"tool_name\": \"PHQ9\", \"score\": score}\n",
    "\n",
    "\n",
    "@tool\n",
    "def run_gad7_assessment() -> dict:\n",
    "    \"\"\"Run GAD-7 anxiety screening assessment FOR user if it is needed\"\"\"\n",
    "\n",
    "   \n",
    "\n",
    "    print(\"🔧 Running GAD-7 Assessment\")\n",
    "    questions = [\n",
    "        \"Have you been feeling nervous or on edge?\",\n",
    "        \"Do you find it difficult to stop worrying?\",\n",
    "        \"Do you feel easily irritated?\"\n",
    "    ]\n",
    "    answers = []\n",
    "    for q in questions:\n",
    "        print(\"🤖:\", q)\n",
    "        a = input(\"You: \")\n",
    "        answers.append(a)\n",
    "    score = sum(3 for a in answers if \"yes\" in a.lower() or \"often\" in a.lower())\n",
    "    return {\"tool_name\": \"GAD7\", \"score\": score}\n"
   ]
  },
  {
   "cell_type": "code",
   "execution_count": 13,
   "id": "9f59c8a6",
   "metadata": {},
   "outputs": [],
   "source": [
    "\n",
    "tools = [run_phq9_assessment, run_gad7_assessment]\n",
    "\n",
    "llm = llm.bind_tools(tools)\n"
   ]
  },
  {
   "cell_type": "code",
   "execution_count": 12,
   "id": "03f04eba",
   "metadata": {},
   "outputs": [],
   "source": [
    "\n",
    "def emotional_check_in_node(self, state: AgentState) -> AgentState:\n",
    "          \n",
    "            \n",
    "            prompt = (\n",
    "                \"You are a CBT therapist doing an emotional check-in.\\n\\n\"\n",
    "                \"Current State:\\n\"\n",
    "                f\"Presenting Problem: {state['presenting_problem']}\\n\"\n",
    "                f\"Consequences: {state['consequences']}\\n\"\n",
    "                f\"Last User Message: {state['last_user_message']}\\n\\n\"\n",
    "                \"Provide empathetic emotional support and validate their feelings.\\n\"\n",
    "                \"Based on their emotional state, use the appropriate assessment tool if needed.\\n\"\n",
    "                \"You have access to depression and anxiety screening tools. [run_phq9_assessment, run_gad7_assessment]\"\n",
    "            )\n",
    "            \n",
    "           \n",
    "            response = self.llm.invoke([HumanMessage(content=prompt)])\n",
    "            \n",
    "           \n",
    "            print(f\"\\n🎯 EMOTIONAL CHECK-       NODE:\")\n",
    "           \n",
    "            \n",
    "            # Check if tools were called\n",
    "            if hasattr(response, 'tool_calls') and response.tool_calls:\n",
    "                for tool_call in response.tool_calls:\n",
    "                    print(f\"\\n🔍 Running {tool_call['name']}...\")\n",
    "                 \n",
    "            \n",
    "            return {\n",
    "                **state,\n",
    "                \"messages\": state[\"messages\"] + [response],\n",
    "                \"stage\": \"emotional_check_in\",\n",
    "                \"next_node\": True\n",
    "            }\n",
    "\n",
    "    "
   ]
  },
  {
   "cell_type": "markdown",
   "id": "b51e2415",
   "metadata": {},
   "source": [
    "# next node decider"
   ]
  },
  {
   "cell_type": "code",
   "execution_count": 15,
   "id": "fbd5e171",
   "metadata": {},
   "outputs": [],
   "source": [
    "from langgraph.prebuilt import ToolNode"
   ]
  },
  {
   "cell_type": "code",
   "execution_count": 16,
   "id": "7801628c",
   "metadata": {},
   "outputs": [],
   "source": [
    "def decide_next_node(state:AgentState) -> AgentState:\n",
    "    \"\"\"This node will select the next node of the graph from router \"\"\"\n",
    "\n",
    "    return state['next_node']"
   ]
  },
  {
   "cell_type": "code",
   "execution_count": null,
   "id": "a879a124",
   "metadata": {},
   "outputs": [],
   "source": [
    "\n",
    "\n",
    "def should_continue(state: AgentState) -> str:\n",
    "    \n",
    "    messages = state[\"messages\"]\n",
    "    if not messages:\n",
    "        return \"end\"\n",
    "    \n",
    "    last_message = messages[-1]\n",
    "    \n",
    "    # Check if the last message has tool calls\n",
    "    if hasattr(last_message, 'tool_calls') and last_message.tool_calls:\n",
    "        return \"continue\"\n",
    "    else:\n",
    "        return \"end\""
   ]
  },
  {
   "cell_type": "code",
   "execution_count": 18,
   "id": "94434965",
   "metadata": {},
   "outputs": [
    {
     "data": {
      "image/png": "[encoded data removed]",
      "text/plain": [
       "<langgraph.graph.state.CompiledStateGraph object at 0x00000220A40BF410>"
      ]
     },
     "execution_count": 18,
     "metadata": {},
     "output_type": "execute_result"
    }
   ],
   "source": [
    "graph = StateGraph(AgentState)\n",
    "graph.add_node(\"intake_node\", intake_node)\n",
    "graph.add_node(\"Case_Formulatin\", case_formulation_node)\n",
    "graph.add_node(\"router_node\", router_node)\n",
    "graph.add_node(\"emotional_check_in_node\",emotional_check_in_node)\n",
    "\n",
    "\n",
    "graph.set_entry_point(\"intake_node\")\n",
    "graph.add_edge(\"intake_node\",\"Case_Formulatin\")\n",
    "graph.add_edge(\"Case_Formulatin\",\"router_node\")\n",
    "\n",
    "\n",
    "\n",
    "graph.add_conditional_edges(\n",
    "    \"router_node\",\n",
    "    decide_next_node, \n",
    "\n",
    "    {\n",
    "        # Edge: Node\n",
    "      #  \"psychoeducation\": \"pss\",\n",
    "        \"emotional_check_in\": \"emotional_check_in_node\",\n",
    "    }\n",
    "\n",
    ")\n",
    "\n",
    "# ToolNode()\n",
    "tool_node = ToolNode(tools=tools)\n",
    "graph.add_node(\"PHQ9/GAD-7 TOOLS\", tool_node)\n",
    "\n",
    "\n",
    "# graph.add_conditional_edges(\n",
    "#     \"emotional_check_in_node\",\n",
    "#     lambda s: not s[\"next_node\"],\n",
    "#     {True: \"emotional_check_in_node\", False: END  }\n",
    "# )\n",
    "\n",
    "\n",
    "\n",
    "graph.add_conditional_edges(\n",
    "    \"emotional_check_in_node\",\n",
    "    should_continue,\n",
    "   {\n",
    "        \"continue\": \"PHQ9/GAD-7 TOOLS\",\n",
    "        \"end\": END,\n",
    "\n",
    "   }\n",
    ")\n",
    "\n",
    "graph.add_edge(\"PHQ9/GAD-7 TOOLS\", \"emotional_check_in_node\")\n",
    "\n",
    "\n",
    "\n",
    "\n",
    "\n",
    "\n",
    "graph.set_finish_point(\"emotional_check_in_node\")\n",
    "graph.compile()"
   ]
  },
  {
   "cell_type": "code",
   "execution_count": 13,
   "id": "0334c0aa",
   "metadata": {},
   "outputs": [],
   "source": [
    "\n",
    "\n",
    "\n",
    "\n",
    "def print_stream(stream):\n",
    "    print(\"streaming\")\n",
    "    \n",
    "    for s in stream:\n",
    "        try:\n",
    "            # if 'messages' key exists and has content\n",
    "            if \"messages\" in s and s[\"messages\"]:\n",
    "                message = s[\"messages\"][-1]\n",
    "                \n",
    "                if isinstance(message, tuple):\n",
    "                    print(message)\n",
    "                elif hasattr(message, 'pretty_print'):\n",
    "                    message.pretty_print()\n",
    "                else:\n",
    "                   \n",
    "                    print(f\"Message: {message}\")\n",
    "            else:\n",
    "                # Handle cases where there are no messages\n",
    "                print(f\"State update: {s}\")\n",
    "                \n",
    "        except Exception as e:\n",
    "            print(f\"Error processing stream item: {e}\")\n",
    "            print(f\"Stream item: {s}\")\n",
    "            continue"
   ]
  },
  {
   "cell_type": "code",
   "execution_count": 19,
   "id": "74009b38",
   "metadata": {},
   "outputs": [],
   "source": [
    "user_input = \"I yelled at my son today. I feel like a horrible parent.  i feel low \"\n",
    "\n",
    "# user_input = \"  i want to suicide\"\n",
    "\n",
    "# user_input = \"  what is CBT\""
   ]
  },
  {
   "cell_type": "code",
   "execution_count": 20,
   "id": "a3069031",
   "metadata": {},
   "outputs": [],
   "source": [
    "app = graph.compile()"
   ]
  },
  {
   "cell_type": "code",
   "execution_count": 21,
   "id": "e946de9f",
   "metadata": {},
   "outputs": [],
   "source": [
    "import time"
   ]
  },
  {
   "cell_type": "code",
   "execution_count": null,
   "id": "306eaef0",
   "metadata": {},
   "outputs": [
    {
     "name": "stdout",
     "output_type": "stream",
     "text": [
      "{'messages': [HumanMessage(content='I yelled at my son today. I feel like a horrible parent.  i feel low ', additional_kwargs={}, response_metadata={})], 'stage': 'intake_node', 'presenting_problem': '', 'history': '', 'activating_event': '', 'beliefs': [], 'consequences': [], 'last_user_message': '', 'next_node': '', 'ready_to_end': False}\n",
      "{'messages': [HumanMessage(content='I yelled at my son today. I feel like a horrible parent.  i feel low ', additional_kwargs={}, response_metadata={}), SystemMessage(content='You are a CBT assistant.\\nExtract the user\\'s presenting problem and a brief emotional history from this message:\\n\\nI yelled at my son today. I feel like a horrible parent.  i feel low \\n\\nRespond ONLY with valid JSON in this exact format:\\n{\\n  \"presenting_problem\": \"...\",\\n  \"history\": \"...\"\\n}', additional_kwargs={}, response_metadata={}), AIMessage(content='```json\\n{\\n  \"presenting_problem\": \"Yelling at son; feeling like a horrible parent\",\\n  \"history\": \"Feeling low\"\\n}\\n```', additional_kwargs={}, response_metadata={'prompt_feedback': {'block_reason': 0, 'safety_ratings': []}, 'finish_reason': 'STOP', 'model_name': 'gemini-1.5-flash', 'safety_ratings': []}, id='run--c08fffca-326f-47eb-a242-5d1f828a3195-0')], 'stage': 'case_formulation_node', 'presenting_problem': 'Yelling at son; feeling like a horrible parent', 'history': 'Feeling low', 'activating_event': '', 'beliefs': [], 'consequences': [], 'last_user_message': 'I yelled at my son today. I feel like a horrible parent.  i feel low ', 'next_node': '', 'ready_to_end': False}\n",
      "{'messages': [HumanMessage(content='I yelled at my son today. I feel like a horrible parent.  i feel low ', additional_kwargs={}, response_metadata={}), SystemMessage(content='You are a CBT assistant.\\nExtract the user\\'s presenting problem and a brief emotional history from this message:\\n\\nI yelled at my son today. I feel like a horrible parent.  i feel low \\n\\nRespond ONLY with valid JSON in this exact format:\\n{\\n  \"presenting_problem\": \"...\",\\n  \"history\": \"...\"\\n}', additional_kwargs={}, response_metadata={}), AIMessage(content='```json\\n{\\n  \"presenting_problem\": \"Yelling at son; feeling like a horrible parent\",\\n  \"history\": \"Feeling low\"\\n}\\n```', additional_kwargs={}, response_metadata={'prompt_feedback': {'block_reason': 0, 'safety_ratings': []}, 'finish_reason': 'STOP', 'model_name': 'gemini-1.5-flash', 'safety_ratings': []}, id='run--c08fffca-326f-47eb-a242-5d1f828a3195-0'), HumanMessage(content='{\"activating_event\": \"Yelling at son\", \"beliefs\": [], \"consequences\": [\\'feeling like a horrible parent\\']}', additional_kwargs={}, response_metadata={})], 'stage': 'goal_setting_node', 'presenting_problem': 'Yelling at son; feeling like a horrible parent', 'history': 'Feeling low', 'activating_event': 'Yelling at son', 'beliefs': [], 'consequences': ['feeling like a horrible parent'], 'last_user_message': 'I yelled at my son today. I feel like a horrible parent.  i feel low ', 'next_node': '', 'ready_to_end': False}\n",
      "{'messages': [HumanMessage(content='I yelled at my son today. I feel like a horrible parent.  i feel low ', additional_kwargs={}, response_metadata={}), SystemMessage(content='You are a CBT assistant.\\nExtract the user\\'s presenting problem and a brief emotional history from this message:\\n\\nI yelled at my son today. I feel like a horrible parent.  i feel low \\n\\nRespond ONLY with valid JSON in this exact format:\\n{\\n  \"presenting_problem\": \"...\",\\n  \"history\": \"...\"\\n}', additional_kwargs={}, response_metadata={}), AIMessage(content='```json\\n{\\n  \"presenting_problem\": \"Yelling at son; feeling like a horrible parent\",\\n  \"history\": \"Feeling low\"\\n}\\n```', additional_kwargs={}, response_metadata={'prompt_feedback': {'block_reason': 0, 'safety_ratings': []}, 'finish_reason': 'STOP', 'model_name': 'gemini-1.5-flash', 'safety_ratings': []}, id='run--c08fffca-326f-47eb-a242-5d1f828a3195-0'), HumanMessage(content='{\"activating_event\": \"Yelling at son\", \"beliefs\": [], \"consequences\": [\\'feeling like a horrible parent\\']}', additional_kwargs={}, response_metadata={}), HumanMessage(content='I yelled at my son today. I feel like a horrible parent.  i feel low ', additional_kwargs={}, response_metadata={}), SystemMessage(content='You are a CBT assistant.\\nExtract the user\\'s presenting problem and a brief emotional history from this message:\\n\\nI yelled at my son today. I feel like a horrible parent.  i feel low \\n\\nRespond ONLY with valid JSON in this exact format:\\n{\\n  \"presenting_problem\": \"...\",\\n  \"history\": \"...\"\\n}', additional_kwargs={}, response_metadata={}), AIMessage(content='```json\\n{\\n  \"presenting_problem\": \"Yelling at son; feeling like a horrible parent\",\\n  \"history\": \"Feeling low\"\\n}\\n```', additional_kwargs={}, response_metadata={'prompt_feedback': {'block_reason': 0, 'safety_ratings': []}, 'finish_reason': 'STOP', 'model_name': 'gemini-1.5-flash', 'safety_ratings': []}, id='run--c08fffca-326f-47eb-a242-5d1f828a3195-0'), HumanMessage(content='{\"activating_event\": \"Yelling at son\", \"beliefs\": [], \"consequences\": [\\'feeling like a horrible parent\\']}', additional_kwargs={}, response_metadata={})], 'stage': 'router', 'presenting_problem': 'Yelling at son; feeling like a horrible parent', 'history': 'Feeling low', 'activating_event': 'Yelling at son', 'beliefs': [], 'consequences': ['feeling like a horrible parent'], 'last_user_message': 'I yelled at my son today. I feel like a horrible parent.  i feel low ', 'next_node': 'emotional_check_in', 'ready_to_end': False}\n",
      "\n",
      "🎯 EMOTIONAL CHECK-       NODE:\n",
      "{'messages': [HumanMessage(content='I yelled at my son today. I feel like a horrible parent.  i feel low ', additional_kwargs={}, response_metadata={}), SystemMessage(content='You are a CBT assistant.\\nExtract the user\\'s presenting problem and a brief emotional history from this message:\\n\\nI yelled at my son today. I feel like a horrible parent.  i feel low \\n\\nRespond ONLY with valid JSON in this exact format:\\n{\\n  \"presenting_problem\": \"...\",\\n  \"history\": \"...\"\\n}', additional_kwargs={}, response_metadata={}), AIMessage(content='```json\\n{\\n  \"presenting_problem\": \"Yelling at son; feeling like a horrible parent\",\\n  \"history\": \"Feeling low\"\\n}\\n```', additional_kwargs={}, response_metadata={'prompt_feedback': {'block_reason': 0, 'safety_ratings': []}, 'finish_reason': 'STOP', 'model_name': 'gemini-1.5-flash', 'safety_ratings': []}, id='run--c08fffca-326f-47eb-a242-5d1f828a3195-0'), HumanMessage(content='{\"activating_event\": \"Yelling at son\", \"beliefs\": [], \"consequences\": [\\'feeling like a horrible parent\\']}', additional_kwargs={}, response_metadata={}), HumanMessage(content='I yelled at my son today. I feel like a horrible parent.  i feel low ', additional_kwargs={}, response_metadata={}), SystemMessage(content='You are a CBT assistant.\\nExtract the user\\'s presenting problem and a brief emotional history from this message:\\n\\nI yelled at my son today. I feel like a horrible parent.  i feel low \\n\\nRespond ONLY with valid JSON in this exact format:\\n{\\n  \"presenting_problem\": \"...\",\\n  \"history\": \"...\"\\n}', additional_kwargs={}, response_metadata={}), AIMessage(content='```json\\n{\\n  \"presenting_problem\": \"Yelling at son; feeling like a horrible parent\",\\n  \"history\": \"Feeling low\"\\n}\\n```', additional_kwargs={}, response_metadata={'prompt_feedback': {'block_reason': 0, 'safety_ratings': []}, 'finish_reason': 'STOP', 'model_name': 'gemini-1.5-flash', 'safety_ratings': []}, id='run--c08fffca-326f-47eb-a242-5d1f828a3195-0'), HumanMessage(content='{\"activating_event\": \"Yelling at son\", \"beliefs\": [], \"consequences\": [\\'feeling like a horrible parent\\']}', additional_kwargs={}, response_metadata={}), HumanMessage(content='{\"activating_event\": \"Yelling at son\", \"beliefs\": [], \"consequences\": [\\'feeling like a horrible parent\\']}', additional_kwargs={}, response_metadata={}), HumanMessage(content='I yelled at my son today. I feel like a horrible parent.  i feel low ', additional_kwargs={}, response_metadata={}), SystemMessage(content='You are a CBT assistant.\\nExtract the user\\'s presenting problem and a brief emotional history from this message:\\n\\nI yelled at my son today. I feel like a horrible parent.  i feel low \\n\\nRespond ONLY with valid JSON in this exact format:\\n{\\n  \"presenting_problem\": \"...\",\\n  \"history\": \"...\"\\n}', additional_kwargs={}, response_metadata={}), AIMessage(content='```json\\n{\\n  \"presenting_problem\": \"Yelling at son; feeling like a horrible parent\",\\n  \"history\": \"Feeling low\"\\n}\\n```', additional_kwargs={}, response_metadata={'prompt_feedback': {'block_reason': 0, 'safety_ratings': []}, 'finish_reason': 'STOP', 'model_name': 'gemini-1.5-flash', 'safety_ratings': []}, id='run--c08fffca-326f-47eb-a242-5d1f828a3195-0'), HumanMessage(content='{\"activating_event\": \"Yelling at son\", \"beliefs\": [], \"consequences\": [\\'feeling like a horrible parent\\']}', additional_kwargs={}, response_metadata={}), AIMessage(content=\"I'm so sorry to hear that you yelled at your son and are feeling like a horrible parent. That sounds incredibly upsetting. It takes a lot of courage to admit to this, and it shows that you care deeply about being a good parent.  It's completely understandable to feel low and overwhelmed after an experience like that.  Many parents experience moments of frustration and anger with their children, and it doesn't make you a bad parent.  What matters is that you recognize it happened and want to do better.\\n\\nTo help me understand things a little better and to offer the most helpful support, I'd like to ask a few questions.  Would you be open to completing a quick assessment?  It can help me gauge the severity of your feelings and suggest coping strategies tailored to your needs.  This is completely optional, of course.\", additional_kwargs={}, response_metadata={'prompt_feedback': {'block_reason': 0, 'safety_ratings': []}, 'finish_reason': 'STOP', 'model_name': 'gemini-1.5-flash', 'safety_ratings': []}, id='run--9ba09db0-affa-4e91-9ce1-a281d9593a9b-0')], 'stage': 'emotional_check_in', 'presenting_problem': 'Yelling at son; feeling like a horrible parent', 'history': 'Feeling low', 'activating_event': 'Yelling at son', 'beliefs': [], 'consequences': ['feeling like a horrible parent'], 'last_user_message': 'I yelled at my son today. I feel like a horrible parent.  i feel low ', 'next_node': '__end__', 'ready_to_end': False}\n"
     ]
    }
   ],
   "source": [
    "\n",
    "messages = [HumanMessage(content=user_input)]\n",
    "    \n",
    "    # Create initial state\n",
    "initial_state = {          ##3333333???????\n",
    "        \"messages\": messages,\n",
    "        \"stage\": \"intake_node\",\n",
    "        \"presenting_problem\": \"\",\n",
    "        \"history\": \"\",\n",
    "        \"activating_event\": \"\",\n",
    "        \"beliefs\": [],\n",
    "        \"consequences\": [],\n",
    "        \"last_user_message\": \"\",\n",
    "        \"next_node\": \"\",\n",
    "        \"ready_to_end\": False\n",
    "    }\n",
    "st = app.stream(initial_state,stream_mode=\"values\")\n",
    "for s in st:\n",
    "       print(s)\n",
    "       time.sleep(2)  "
   ]
  },
  {
   "cell_type": "code",
   "execution_count": null,
   "id": "d92746c0",
   "metadata": {},
   "outputs": [
    {
     "name": "stdout",
     "output_type": "stream",
     "text": [
      "Invoking the CBT chatbot graph...\n",
      "streaming\n",
      "================================\u001b[1m Human Message \u001b[0m=================================\n",
      "\n",
      "I yelled at my son today. I feel like a horrible parent.\n",
      "==================================\u001b[1m Ai Message \u001b[0m==================================\n",
      "\n",
      "```json\n",
      "{\n",
      "  \"presenting_problem\": \"Yelling at son, feeling like a horrible parent\",\n",
      "  \"history\": \"Unspecified, but current feelings suggest potential for past difficulties with self-perception as a parent.\"\n",
      "}\n",
      "```\n",
      "================================\u001b[1m Human Message \u001b[0m=================================\n",
      "\n",
      "{\"activating_event\": \"Yelling at son\", \"beliefs\": [], \"consequences\": [\"feeling like a horrible parent\"]}\n",
      "================================\u001b[1m Human Message \u001b[0m=================================\n",
      "\n",
      "{\"activating_event\": \"Yelling at son\", \"beliefs\": [], \"consequences\": [\"feeling like a horrible parent\"]}\n",
      "\n",
      "🎯 EMOTIONAL CHECK-       NODE:\n",
      "==================================\u001b[1m Ai Message \u001b[0m==================================\n",
      "\n",
      "\"I'm so sorry to hear that you yelled at your son today, and that you're feeling like a horrible parent. That sounds incredibly upsetting and difficult.  It takes a lot of courage to admit that and reach out for support, so thank you for sharing that with me.  It's completely understandable that you're feeling this way;  yelling at our children can leave us feeling guilty and inadequate, even if it's a momentary lapse.  It doesn't make you a horrible parent.  Parenting is incredibly challenging, and everyone makes mistakes.\n",
      "\n",
      "Before we delve deeper, I want to understand a little more about how you're feeling right now.  It sounds like you're experiencing significant guilt and self-criticism.  Could you tell me a bit more about the intensity of those feelings? On a scale of 0 to 10, with 0 being not at all and 10 being the most intense, how would you rate your current levels of guilt and self-criticism?  And what other emotions are you feeling alongside that?  Are you feeling angry at yourself, sad, frustrated, or anything else?\n",
      "\n",
      "Also, to get a better understanding of your overall well-being, I'd like to ask you a few quick questions.  This will help us tailor the best approach to support you.  (I would then administer a short, relevant screening tool, such as a PHQ-9 for depression or GAD-7 for anxiety, explaining its purpose and assuring confidentiality. The specific questions would depend on the tool chosen, but the tone would remain empathetic and supportive.)\n",
      "\n",
      "Remember,  yelling at your son doesn't define you as a parent. It's one event, not a reflection of your entire parenting ability. We can work together to explore what triggered the yelling, develop strategies to manage your reactions in the future, and build your confidence as a parent.  What are your thoughts on that?\"\n",
      "\n",
      "=== CBT Chatbot Output ==========================\n"
     ]
    },
    {
     "ename": "TypeError",
     "evalue": "'NoneType' object is not subscriptable",
     "output_type": "error",
     "traceback": [
      "\u001b[1;31m---------------------------------------------------------------------------\u001b[0m",
      "\u001b[1;31mTypeError\u001b[0m                                 Traceback (most recent call last)",
      "Cell \u001b[1;32mIn[120], line 27\u001b[0m\n\u001b[0;32m     24\u001b[0m output \u001b[38;5;241m=\u001b[39m print_stream(app\u001b[38;5;241m.\u001b[39mstream(initial_state,stream_mode\u001b[38;5;241m=\u001b[39m\u001b[38;5;124m\"\u001b[39m\u001b[38;5;124mvalues\u001b[39m\u001b[38;5;124m\"\u001b[39m))\n\u001b[0;32m     26\u001b[0m \u001b[38;5;28mprint\u001b[39m(\u001b[38;5;124m\"\u001b[39m\u001b[38;5;130;01m\\n\u001b[39;00m\u001b[38;5;124m=== CBT Chatbot Output ==========================\u001b[39m\u001b[38;5;124m\"\u001b[39m)\n\u001b[1;32m---> 27\u001b[0m \u001b[38;5;28mprint\u001b[39m(\u001b[38;5;124mf\u001b[39m\u001b[38;5;124m\"\u001b[39m\u001b[38;5;124mStage: \u001b[39m\u001b[38;5;132;01m{\u001b[39;00m\u001b[43moutput\u001b[49m\u001b[43m[\u001b[49m\u001b[38;5;124;43m'\u001b[39;49m\u001b[38;5;124;43mstage\u001b[39;49m\u001b[38;5;124;43m'\u001b[39;49m\u001b[43m]\u001b[49m\u001b[38;5;132;01m}\u001b[39;00m\u001b[38;5;124m\"\u001b[39m)\n\u001b[0;32m     28\u001b[0m \u001b[38;5;28mprint\u001b[39m(\u001b[38;5;124mf\u001b[39m\u001b[38;5;124m\"\u001b[39m\u001b[38;5;124mPresenting Problem: \u001b[39m\u001b[38;5;132;01m{\u001b[39;00moutput[\u001b[38;5;124m'\u001b[39m\u001b[38;5;124mpresenting_problem\u001b[39m\u001b[38;5;124m'\u001b[39m]\u001b[38;5;132;01m}\u001b[39;00m\u001b[38;5;124m\"\u001b[39m)\n\u001b[0;32m     29\u001b[0m \u001b[38;5;28mprint\u001b[39m(\u001b[38;5;124mf\u001b[39m\u001b[38;5;124m\"\u001b[39m\u001b[38;5;124mHistory: \u001b[39m\u001b[38;5;132;01m{\u001b[39;00moutput[\u001b[38;5;124m'\u001b[39m\u001b[38;5;124mhistory\u001b[39m\u001b[38;5;124m'\u001b[39m]\u001b[38;5;132;01m}\u001b[39;00m\u001b[38;5;124m\"\u001b[39m)\n",
      "\u001b[1;31mTypeError\u001b[0m: 'NoneType' object is not subscriptable"
     ]
    }
   ],
   "source": [
    "\n",
    "\n",
    "# Test the graph with user input\n",
    "if __name__ == \"__main__\":\n",
    "    user_input = user_input\n",
    "    messages = [HumanMessage(content=user_input)]\n",
    "    \n",
    "    # Create initial state\n",
    "    initial_state = {          ##3333333???????\n",
    "        \"messages\": messages,\n",
    "        \"stage\": \"intake_node\",\n",
    "        \"presenting_problem\": \"\",\n",
    "        \"history\": \"\",\n",
    "        \"activating_event\": \"\",\n",
    "        \"beliefs\": [],\n",
    "        \"consequences\": [],\n",
    "        \"last_user_message\": \"\",\n",
    "        \"next_node\": \"\",\n",
    "        \"ready_to_end\": False\n",
    "    }\n",
    "    \n",
    "    # Invoke the graph\n",
    "    print(\"Invoking the CBT chatbot graph...\")\n",
    "    output = print_stream(app.stream(initial_state,stream_mode=\"values\"))\n",
    "    \n",
    "    print(\"\\n=== CBT Chatbot Output ==========================\")\n",
    "    #print(f\"Stage: {output['stage']}\")\n",
    "    print(f\"Presenting Problem: {output['presenting_problem']}\")\n",
    "    print(f\"History: {output['history']}\")\n",
    "    print(f\"Last User Message: {output['last_user_message']}\")\n",
    "    print(f\"Ready to End: {output['ready_to_end']}\")\n",
    "    \n",
    "\n"
   ]
  },
  {
   "cell_type": "code",
   "execution_count": 94,
   "id": "2e82a80b",
   "metadata": {},
   "outputs": [],
   "source": [
    "from Conversation_Chat import CBTChatbot"
   ]
  },
  {
   "cell_type": "code",
   "execution_count": 95,
   "id": "548b0a54",
   "metadata": {},
   "outputs": [
    {
     "name": "stdout",
     "output_type": "stream",
     "text": [
      "🤖 CBT Chatbot Started\n",
      "💬 Type 'quit', 'exit', or 'bye' to end the conversation\n",
      "============================================================\n"
     ]
    }
   ],
   "source": [
    "if __name__ == \"__main__\":\n",
    "  \n",
    "   \n",
    "    chatbot = CBTChatbot(graph)\n",
    "    chatbot.run_conversation()"
   ]
  },
  {
   "cell_type": "markdown",
   "id": "69f16ff5",
   "metadata": {},
   "source": []
  },
  {
   "cell_type": "code",
   "execution_count": null,
   "id": "12b19338",
   "metadata": {},
   "outputs": [],
   "source": []
  }
 ],
 "metadata": {
  "kernelspec": {
   "display_name": "Python 3",
   "language": "python",
   "name": "python3"
  },
  "language_info": {
   "codemirror_mode": {
    "name": "ipython",
    "version": 3
   },
   "file_extension": ".py",
   "mimetype": "text/x-python",
   "name": "python",
   "nbconvert_exporter": "python",
   "pygments_lexer": "ipython3",
   "version": "3.12.4"
  }
 },
 "nbformat": 4,
 "nbformat_minor": 5
}
