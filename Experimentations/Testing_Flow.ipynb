{
 "cells": [
  {
   "cell_type": "code",
   "execution_count": 1,
   "id": "c4601204",
   "metadata": {},
   "outputs": [],
   "source": [
    "from langgraph.graph import StateGraph, END,add_messages\n",
    "\n",
    "from typing import TypedDict, Annotated, Sequence,List, Union\n",
    "from langchain_core.messages import BaseMessage, SystemMessage, HumanMessage, ToolMessage,AIMessage,AIMessageChunk,FunctionMessage\n",
    "from langgraph.prebuilt import ToolNode\n",
    "from langchain.tools import tool\n",
    "import json\n",
    "import re\n",
    "import google.generativeai as genai\n",
    "from google.generativeai.types import GenerationConfig\n",
    "from langchain_core.runnables import Runnable\n",
    "\n",
    "from dotenv import load_dotenv\n",
    "import os\n",
    "\n",
    "\n",
    "load_dotenv()\n",
    "GEMINI_API_KEY = os.getenv(\"GEMINI_API_KEYJ\")\n",
    "from langchain_google_genai import ChatGoogleGenerativeAI\n",
    "\n"
   ]
  },
  {
   "cell_type": "code",
   "execution_count": 2,
   "id": "dfa72aed",
   "metadata": {},
   "outputs": [],
   "source": [
    "genai.configure(api_key=GEMINI_API_KEY)\n",
    "llm_json = genai.GenerativeModel(\n",
    "    model_name=\"gemini-2.0-flash-lite\",\n",
    "    generation_config=GenerationConfig(\n",
    "        response_mime_type=\"application/json\",\n",
    "        temperature=0\n",
    "    )\n",
    ")\n"
   ]
  },
  {
   "cell_type": "code",
   "execution_count": 3,
   "id": "8f90a626",
   "metadata": {},
   "outputs": [
    {
     "data": {
      "text/plain": [
       "genai.GenerativeModel(\n",
       "    model_name='models/gemini-2.0-flash-lite',\n",
       "    generation_config={'temperature': 0, 'response_mime_type': 'application/json'},\n",
       "    safety_settings={},\n",
       "    tools=None,\n",
       "    system_instruction=None,\n",
       "    cached_content=None\n",
       ")"
      ]
     },
     "execution_count": 3,
     "metadata": {},
     "output_type": "execute_result"
    }
   ],
   "source": [
    "llm_json"
   ]
  },
  {
   "cell_type": "code",
   "execution_count": 4,
   "id": "d97e8b23",
   "metadata": {},
   "outputs": [],
   "source": [
    "api_key2 = os.getenv(\"GEMINI_API_KEYY\")\n"
   ]
  },
  {
   "cell_type": "code",
   "execution_count": 5,
   "id": "28ac3082",
   "metadata": {},
   "outputs": [
    {
     "data": {
      "text/plain": [
       "'Hi there! How can I help you today?'"
      ]
     },
     "execution_count": 5,
     "metadata": {},
     "output_type": "execute_result"
    }
   ],
   "source": [
    "llm = ChatGoogleGenerativeAI(model=\"gemini-2.0-flash-lite\",google_api_key=  api_key2 )\n",
    "\n",
    "llm.invoke(\"hi\").content\n",
    "\n"
   ]
  },
  {
   "cell_type": "code",
   "execution_count": 6,
   "id": "0a978f03",
   "metadata": {},
   "outputs": [
    {
     "name": "stdout",
     "output_type": "stream",
     "text": [
      "model='models/gemini-2.0-flash-lite' google_api_key=SecretStr('**********') client=<google.ai.generativelanguage_v1beta.services.generative_service.client.GenerativeServiceClient object at 0x0000026EAFCBBF50> default_metadata=() model_kwargs={}\n"
     ]
    }
   ],
   "source": [
    "print(llm)"
   ]
  },
  {
   "cell_type": "markdown",
   "id": "6e5456d1",
   "metadata": {},
   "source": [
    "# tools"
   ]
  },
  {
   "cell_type": "code",
   "execution_count": null,
   "id": "30f6bab9",
   "metadata": {},
   "outputs": [],
   "source": [
    "\n",
    "@tool\n",
    "def run_phq9_assessment() -> dict:\n",
    "    \"\"\"Run PHQ-9 depression screening assessment FOR user if it is needed\"\"\"\n",
    "    print(\"🔧 Running PHQ-9 Assessment\")\n",
    "    questions = [\n",
    "        \"Over the last 2 weeks, how often have you felt little interest or pleasure in doing things?\",\n",
    "        \"How often have you felt down, depressed, or hopeless?\",\n",
    "        \"How often have you had trouble falling or staying asleep?\"\n",
    "    ]\n",
    "    answers = []\n",
    "    for q in questions:\n",
    "        print(\"🤖:\", q)\n",
    "        a = input(\"You: \")\n",
    "        answers.append(a)\n",
    "    score = sum(3 for a in answers if \"yes\" in a.lower() or \"often\" in a.lower())\n",
    "    return {\"tool_name\": \"PHQ9\", \"score\": score}\n",
    "\n",
    "\n",
    "@tool\n",
    "def run_gad7_assessment() -> dict:\n",
    "    \"\"\"Run GAD-7 anxiety screening assessment FOR user if it is needed\"\"\"\n",
    "\n",
    "   \n",
    "\n",
    "    print(\"🔧 Running GAD-7 Assessment\")\n",
    "    questions = [\n",
    "        \"Have you been feeling nervous or on edge?\",\n",
    "        \"Do you find it difficult to stop worrying?\",\n",
    "        \"Do you feel easily irritated?\"\n",
    "    ]\n",
    "    answers = []\n",
    "    for q in questions:\n",
    "        print(\"🤖:\", q)\n",
    "        a = input(\"You: \")\n",
    "        answers.append(a)\n",
    "    score = sum(3 for a in answers if \"yes\" in a.lower() or \"often\" in a.lower())\n",
    "    return {\"tool_name\": \"GAD7\", \"score\": score}\n",
    "\n",
    "\n"
   ]
  },
  {
   "cell_type": "code",
   "execution_count": null,
   "id": "3870fabc",
   "metadata": {},
   "outputs": [],
   "source": [
    "\n",
    "tools = [run_phq9_assessment, run_gad7_assessment]\n",
    "\n",
    "llm = llm.bind_tools(tools)\n"
   ]
  },
  {
   "cell_type": "code",
   "execution_count": null,
   "id": "f922253d",
   "metadata": {},
   "outputs": [],
   "source": [
    "class AgentState(TypedDict):\n",
    "   \n",
    "    messages: Annotated[Sequence[BaseMessage], add_messages]\n",
    "\n",
    "\n",
    "    # Intake information\n",
    "    presenting_problem: str       \n",
    "    history: str                \n",
    "\n",
    "    #  Case formulation (abc model)\n",
    "    activating_event: str        \n",
    "    beliefs: List[str]           \n",
    "    consequences: List[str]       \n",
    "\n",
    "  \n",
    "    # LLM & Routing\n",
    "           \n",
    "    next_node: Union[str,bool]                   \n",
    "\n",
    "  "
   ]
  },
  {
   "cell_type": "code",
   "execution_count": null,
   "id": "a7c5118b",
   "metadata": {},
   "outputs": [],
   "source": [
    "def print_red(text):\n",
    "    print(f\"\\033[31m{text}\\033[0m\")"
   ]
  },
  {
   "cell_type": "code",
   "execution_count": null,
   "id": "d35565cb",
   "metadata": {},
   "outputs": [
    {
     "name": "stdout",
     "output_type": "stream",
     "text": [
      "\u001b[31m            GOT JSON OR NOT-----------\u001b[0m\n"
     ]
    }
   ],
   "source": [
    "print_red(\"            GOT JSON OR NOT-----------\")"
   ]
  },
  {
   "cell_type": "code",
   "execution_count": null,
   "id": "ccea2708",
   "metadata": {},
   "outputs": [],
   "source": [
    "def intake_node(state: AgentState) -> AgentState:\n",
    "    user_input = state[\"messages\"][-1].content\n",
    "   \n",
    "    prompt = (\n",
    "        \"You are a CBT assistant.\\n\"\n",
    "        \"Extract the user's presenting problem and a brief emotional history from this message:\\n\\n\"\n",
    "        \"Respond ONLY with valid JSON in this exact format:\\n\"\n",
    "        f\"User message: {user_input}\\n\\n\"\n",
    "        \"{\\n\"\n",
    "        \"  \\\"presenting_problem\\\": \\\"...\\\",\\n\"\n",
    "        \"  \\\"history\\\": \\\"...\\\"\\n\"\n",
    "        \"}\"\n",
    "    )\n",
    "\n",
    "    response = llm_json.generate_content(prompt)\n",
    "\n",
    "\n",
    "    response_content = response.text\n",
    "   \n",
    "    if isinstance(response_content, str):\n",
    "      \n",
    "        json_match = re.search(r'```(?:json)?\\s*(\\{.*?\\})\\s*```', response_content, re.DOTALL)\n",
    "        if json_match:\n",
    "            response_content = json_match.group(1)\n",
    "        else:\n",
    "            \n",
    "            json_match = re.search(r'\\{.*?\\}', response_content, re.DOTALL)\n",
    "            if json_match:\n",
    "                response_content = json_match.group(0)\n",
    "    \n",
    "   \n",
    "    try:\n",
    "        if isinstance(response_content, dict):\n",
    "            result = response_content\n",
    "        else:\n",
    "            result = json.loads(response_content)\n",
    "    except (json.JSONDecodeError, TypeError):\n",
    "     \n",
    "        result = {\n",
    "            \"presenting_problem\": user_input,\n",
    "            \"history\": \"No specific history provided\"\n",
    "        }\n",
    "\n",
    "\n",
    "    presenting_problem = result.get(\"presenting_problem\", \"\")\n",
    "    history = result.get(\"history\", \"\")  \n",
    "    \n",
    "    \n",
    "    state['presenting_problem'] = presenting_problem\n",
    "    state['history'] = history\n",
    "    \n",
    "    t = FunctionMessage(\n",
    "        name=\"t\",\n",
    "        content=f'{{\"presenting_problem\": \"{presenting_problem}\", \"history\": \"{history}\"}}'\n",
    "    ) \n",
    "\n",
    "    prompt = ( f\"You are a CBT assistant. Acknowledge that you understand the user's situation from their problem: {presenting_problem} and history: {history}. Respond in just 3 lines.\" )\n",
    "\n",
    "    msg=llm.invoke(prompt)\n",
    "    state[\"messages\"].append( AIMessage(content=msg.content) )\n",
    "\n",
    "    print_red(\"                  --------------INTAKE NODE   OUT---------------------\")\n",
    "\n",
    "   \n",
    "    return {\n",
    "        \"presenting_problem\": presenting_problem,\n",
    "        \"history\": history,  \n",
    "        'messages' :  [ t ]\n",
    "    }"
   ]
  },
  {
   "cell_type": "code",
   "execution_count": null,
   "id": "b9288853",
   "metadata": {},
   "outputs": [
    {
     "data": {
      "image/png": "[encoded data removed]",
      "text/plain": [
       "<langgraph.graph.state.CompiledStateGraph object at 0x00000217816D4E90>"
      ]
     },
     "metadata": {},
     "output_type": "display_data"
    }
   ],
   "source": [
    "graph = StateGraph(AgentState)\n",
    "graph.add_node(\"intake_node\", intake_node)\n",
    "graph.set_entry_point(\"intake_node\")\n",
    "graph.set_finish_point(\"intake_node\")\n",
    "graph.compile()\n"
   ]
  },
  {
   "cell_type": "markdown",
   "id": "6d061246",
   "metadata": {},
   "source": [
    "# invoking"
   ]
  },
  {
   "cell_type": "code",
   "execution_count": null,
   "id": "d834ccac",
   "metadata": {},
   "outputs": [],
   "source": [
    "user_input = \"I yelled at my son today. I feel like a horrible parent.\"\n",
    "messages = [HumanMessage(content=user_input)]\n",
    "    \n",
    "  \n",
    "initial_state = {         \n",
    "        \"messages\": messages, \n",
    "    }"
   ]
  },
  {
   "cell_type": "code",
   "execution_count": null,
   "id": "51984320",
   "metadata": {},
   "outputs": [
    {
     "name": "stdout",
     "output_type": "stream",
     "text": [
      "Invoking the CBT chatbot graph...\n",
      "\u001b[31m --------------INTAKE NODE---------------------\u001b[0m\n",
      "\u001b[31m            GOT JSON OR NOT-----------\u001b[0m\n",
      "\u001b[31mYelling at son\u001b[0m\n",
      "\u001b[31m                  --------------INTAKE NODE   OUT---------------------\u001b[0m\n"
     ]
    }
   ],
   "source": [
    "app = graph.compile()\n",
    "\n",
    "\n",
    "if __name__ == \"__main__\":\n",
    "    user_input = \"I yelled at my son today. I feel like a horrible parent.\"\n",
    "    messages = [HumanMessage(content=user_input)]\n",
    "    \n",
    "   \n",
    "    initial_state = {         \n",
    "        \"messages\": messages, \n",
    "    }\n",
    "    \n",
    "    \n",
    "    print(\"Invoking the CBT chatbot graph...\")\n",
    "    output = app.invoke(initial_state)\n"
   ]
  },
  {
   "cell_type": "code",
   "execution_count": null,
   "id": "1664c9f9",
   "metadata": {},
   "outputs": [
    {
     "data": {
      "text/plain": [
       "[HumanMessage(content='I yelled at my son today. I feel like a horrible parent.', additional_kwargs={}, response_metadata={}, id='ffbf9112-55d0-443b-ba6b-9e940ea98c3c'),\n",
       " AIMessage(content=\"I understand you're feeling like a horrible parent because you've been yelling at your son. It's common to feel this way. Let's work together to find some strategies to manage your reactions and improve your relationship with your son.\", additional_kwargs={}, response_metadata={}, id='6b429397-90c2-4994-a480-40040822658d'),\n",
       " FunctionMessage(content='= presenting Problem = Yelling at son = history = Feels like a horrible parent', additional_kwargs={}, response_metadata={}, name='t', id='7ccba287-f08a-4927-a8b5-b7070dbcb9a7')]"
      ]
     },
     "metadata": {},
     "output_type": "display_data"
    }
   ],
   "source": [
    "output[\"messages\"]"
   ]
  },
  {
   "cell_type": "code",
   "execution_count": null,
   "id": "72ba7ba8",
   "metadata": {},
   "outputs": [
    {
     "name": "stdout",
     "output_type": "stream",
     "text": [
      "  HumanMessage: I yelled at my son today. I feel like a horrible parent.\n",
      "  AIMessage: = presenting Problem = Yelling at son = history = Feels like a horrible parent\n",
      "  AIMessage: I understand you're feeling like a horrible parent because you've been yelling at your son. It's tough when we don't act the way we want to. Would you like to take a GAD-7 or PHQ-9 assessment to check for anxiety or depression?\n"
     ]
    }
   ],
   "source": [
    "for msg in output[\"messages\"]:\n",
    "    print(f\"  {type(msg).__name__}: {msg.content}\")"
   ]
  },
  {
   "cell_type": "code",
   "execution_count": null,
   "id": "43d7e694",
   "metadata": {},
   "outputs": [
    {
     "name": "stdout",
     "output_type": "stream",
     "text": [
      "Yelling at son\n"
     ]
    }
   ],
   "source": [
    "print(output['presenting_problem'])"
   ]
  },
  {
   "cell_type": "code",
   "execution_count": null,
   "id": "921b2ed5",
   "metadata": {},
   "outputs": [
    {
     "name": "stdout",
     "output_type": "stream",
     "text": [
      "\u001b[31m --------------INTAKE NODE---------------------\u001b[0m\n",
      "\u001b[31m            GOT JSON OR NOT-----------\u001b[0m\n",
      "\u001b[31mYelling at son\u001b[0m\n",
      "(AIMessageChunk(content='I understand you', additional_kwargs={}, response_metadata={'safety_ratings': []}, id='run--84d5de09-fda4-4871-b411-9923cbce8f3d'), {'langgraph_step': 1, 'langgraph_node': 'intake_node', 'langgraph_triggers': ('branch:to:intake_node',), 'langgraph_path': ('__pregel_pull', 'intake_node'), 'langgraph_checkpoint_ns': 'intake_node:a7bc37f5-bf3a-613a-4074-d4919d2853cf', 'checkpoint_ns': 'intake_node:a7bc37f5-bf3a-613a-4074-d4919d2853cf', 'ls_provider': 'google_genai', 'ls_model_name': 'gemini-2.0-flash-lite', 'ls_model_type': 'chat', 'ls_temperature': 0.7})\n",
      "(AIMessageChunk(content=\"'re feeling like a horrible parent because you've been yelling at your son\", additional_kwargs={}, response_metadata={'safety_ratings': []}, id='run--84d5de09-fda4-4871-b411-9923cbce8f3d'), {'langgraph_step': 1, 'langgraph_node': 'intake_node', 'langgraph_triggers': ('branch:to:intake_node',), 'langgraph_path': ('__pregel_pull', 'intake_node'), 'langgraph_checkpoint_ns': 'intake_node:a7bc37f5-bf3a-613a-4074-d4919d2853cf', 'checkpoint_ns': 'intake_node:a7bc37f5-bf3a-613a-4074-d4919d2853cf', 'ls_provider': 'google_genai', 'ls_model_name': 'gemini-2.0-flash-lite', 'ls_model_type': 'chat', 'ls_temperature': 0.7})\n",
      "(AIMessageChunk(content=\". It's common to feel this way when we act in ways that don'\", additional_kwargs={}, response_metadata={'safety_ratings': []}, id='run--84d5de09-fda4-4871-b411-9923cbce8f3d'), {'langgraph_step': 1, 'langgraph_node': 'intake_node', 'langgraph_triggers': ('branch:to:intake_node',), 'langgraph_path': ('__pregel_pull', 'intake_node'), 'langgraph_checkpoint_ns': 'intake_node:a7bc37f5-bf3a-613a-4074-d4919d2853cf', 'checkpoint_ns': 'intake_node:a7bc37f5-bf3a-613a-4074-d4919d2853cf', 'ls_provider': 'google_genai', 'ls_model_name': 'gemini-2.0-flash-lite', 'ls_model_type': 'chat', 'ls_temperature': 0.7})\n",
      "(AIMessageChunk(content=\"t align with our values. Let's work together to explore this and find some helpful strategies.\\n\", additional_kwargs={}, response_metadata={'finish_reason': 'STOP', 'model_name': 'gemini-2.0-flash-lite', 'safety_ratings': []}, id='run--84d5de09-fda4-4871-b411-9923cbce8f3d'), {'langgraph_step': 1, 'langgraph_node': 'intake_node', 'langgraph_triggers': ('branch:to:intake_node',), 'langgraph_path': ('__pregel_pull', 'intake_node'), 'langgraph_checkpoint_ns': 'intake_node:a7bc37f5-bf3a-613a-4074-d4919d2853cf', 'checkpoint_ns': 'intake_node:a7bc37f5-bf3a-613a-4074-d4919d2853cf', 'ls_provider': 'google_genai', 'ls_model_name': 'gemini-2.0-flash-lite', 'ls_model_type': 'chat', 'ls_temperature': 0.7})\n",
      "\u001b[31m                  --------------INTAKE NODE   OUT---------------------\u001b[0m\n",
      "(FunctionMessage(content='= presenting Problem = Yelling at son = history = Feels like a horrible parent', additional_kwargs={}, response_metadata={}, name='t', id='2b9f344f-47d7-427f-b084-de16ee932107'), {'langgraph_step': 1, 'langgraph_node': 'intake_node', 'langgraph_triggers': ('branch:to:intake_node',), 'langgraph_path': ('__pregel_pull', 'intake_node'), 'langgraph_checkpoint_ns': 'intake_node:a7bc37f5-bf3a-613a-4074-d4919d2853cf'})\n"
     ]
    }
   ],
   "source": [
    "for chunk in app.stream(initial_state,stream_mode=\"messages\"):\n",
    "    \n",
    "    print(chunk)"
   ]
  },
  {
   "cell_type": "markdown",
   "id": "91d348e2",
   "metadata": {},
   "source": [
    "# case formualtin node"
   ]
  },
  {
   "cell_type": "code",
   "execution_count": null,
   "id": "2b983cb4",
   "metadata": {},
   "outputs": [],
   "source": [
    "def case_formulation_node( state: AgentState) -> AgentState:\n",
    "        \n",
    "       \n",
    "\n",
    "        prompt = (\n",
    "            \"You are a CBT assistant.\\n\"\n",
    "            \"Given this user's presenting problem, extract as much of the ABC model as possible:\\n\"\n",
    "            \"- A (Activating Event): what clearly happened?\\n\"\n",
    "            \"- B (Beliefs): only include if user directly stated their thoughts or judgments\\n\"\n",
    "            \"- C (Consequences): only include if emotions or actions are clearly stated\\n\\n\"\n",
    "            f\"Presenting Problem:\\n{  state[\"presenting_problem\"]}\\n\\n\"\n",
    "            f\"histroy:\\n {state[\"history\"]}\\n\\n\"\n",
    "            \"Respond in this EXACT format:\\n\"\n",
    "            \"{\\n\"\n",
    "            \"  \\\"activating_event\\\": \\\"...\\\",\\n\"\n",
    "            \"  \\\"beliefs\\\": [\\\"...\\\", \\\"...\\\"],\\n\"\n",
    "            \"  \\\"consequences\\\": [\\\"...\\\", \\\"...\\\"]\\n\"\n",
    "            \"}\"\n",
    "        )\n",
    "\n",
    "        \n",
    "        response = llm_json.generate_content(prompt)\n",
    "        \n",
    "       \n",
    "        content = response.text.strip()\n",
    "        \n",
    "        try:\n",
    "            result = json.loads(content)\n",
    "        except:\n",
    "            result = {}\n",
    "\n",
    "        print_red(\"                  --------------case_formulation_node   OUT---------------------\")\n",
    "\n",
    "        return {\n",
    "            **state,\n",
    "         \n",
    "            \"messages\": [FunctionMessage(name =\"t\",content=f'{{\"activating_event\": \"{result.get(\"activating_event\", \"\")}\", \"beliefs\": {result.get(\"beliefs\", [])}, \"consequences\": {result.get(\"consequences\", [])}}}')],\n",
    "             \n",
    "            \"activating_event\": result.get(\"activating_event\", \"\"),\n",
    "            \"beliefs\": result.get(\"beliefs\", []),\n",
    "            \"consequences\": result.get(\"consequences\", [])\n",
    "        }\n",
    "\n"
   ]
  },
  {
   "cell_type": "code",
   "execution_count": null,
   "id": "e54e5ca3",
   "metadata": {},
   "outputs": [
    {
     "data": {
      "image/png": "[encoded data removed]",
      "text/plain": [
       "<langgraph.graph.state.CompiledStateGraph object at 0x0000014828F9E690>"
      ]
     },
     "metadata": {},
     "output_type": "display_data"
    }
   ],
   "source": [
    "graph = StateGraph(AgentState)\n",
    "graph.add_node(\"intake_node\", intake_node)\n",
    "graph.add_node(\"Case_Formulatin\", case_formulation_node)\n",
    "\n",
    "graph.set_entry_point(\"intake_node\")\n",
    "graph.add_edge(\"intake_node\",\"Case_Formulatin\")\n",
    "graph.set_finish_point(\"Case_Formulatin\")\n",
    "graph.compile()"
   ]
  },
  {
   "cell_type": "markdown",
   "id": "1b13306b",
   "metadata": {},
   "source": [
    "# invoking"
   ]
  },
  {
   "cell_type": "code",
   "execution_count": null,
   "id": "fed10874",
   "metadata": {},
   "outputs": [],
   "source": [
    "app = graph.compile()"
   ]
  },
  {
   "cell_type": "code",
   "execution_count": null,
   "id": "1f671b24",
   "metadata": {},
   "outputs": [
    {
     "name": "stdout",
     "output_type": "stream",
     "text": [
      "Invoking the CBT chatbot graph...\n",
      "\u001b[31m --------------INTAKE NODE---------------------\u001b[0m\n",
      "\u001b[31m            GOT JSON OR NOT-----------\u001b[0m\n",
      "\u001b[31mYelling at son\u001b[0m\n",
      "\u001b[31m                  --------------INTAKE NODE   OUT---------------------\u001b[0m\n",
      "\u001b[31m                  --------------case_formulation_node---------------------\u001b[0m\n",
      "\u001b[31m                  --------------case_formulation_node   OUT---------------------\u001b[0m\n"
     ]
    }
   ],
   "source": [
    "app = graph.compile()\n",
    "\n",
    "\n",
    "if __name__ == \"__main__\":\n",
    "    user_input = \"I yelled at my son today. I feel like a horrible parent.\"\n",
    "    messages = [HumanMessage(content=user_input)]\n",
    "    \n",
    "    initial_state = {         \n",
    "        \"messages\": messages, \n",
    "    }\n",
    "  \n",
    "    print(\"Invoking the CBT chatbot graph...\")\n",
    "    output = app.invoke(initial_state)\n"
   ]
  },
  {
   "cell_type": "code",
   "execution_count": null,
   "id": "ce8313a6",
   "metadata": {},
   "outputs": [
    {
     "name": "stdout",
     "output_type": "stream",
     "text": [
      "  HumanMessage: I yelled at my son today. I feel like a horrible parent.\n",
      "  AIMessage: I understand you're struggling with yelling at your son and feeling like a bad parent, which is a really tough situation.\n",
      "It's common to feel this way when you're not acting in line with your values.\n",
      "Let's explore some CBT techniques to help you manage your anger and improve your parenting approach.\n"
     ]
    }
   ],
   "source": [
    "for msg in output[\"messages\"]:\n",
    "    print(f\"  {type(msg).__name__}: {msg.content}\")"
   ]
  },
  {
   "cell_type": "code",
   "execution_count": null,
   "id": "fc9725b1",
   "metadata": {},
   "outputs": [
    {
     "data": {
      "text/plain": [
       "['Feels like a horrible parent']"
      ]
     },
     "metadata": {},
     "output_type": "display_data"
    }
   ],
   "source": [
    "output['beliefs']"
   ]
  },
  {
   "cell_type": "code",
   "execution_count": null,
   "id": "f4c648a2",
   "metadata": {},
   "outputs": [
    {
     "name": "stdout",
     "output_type": "stream",
     "text": [
      "                  --------------INTAKE NODE---------------------\n",
      ".........................................\n",
      "content='```' additional_kwargs={} response_metadata={'safety_ratings': []} id='run--dc7ff0d4-0814-4c29-a60d-e176630a4670'\n",
      ".........................................\n",
      ".........................................\n",
      "content='json\\n{\\n  \"presenting_problem\": \"Yelling at son' additional_kwargs={} response_metadata={'safety_ratings': []} id='run--dc7ff0d4-0814-4c29-a60d-e176630a4670'\n",
      ".........................................\n",
      ".........................................\n",
      "content=' and feeling like a horrible parent.\",\\n  \"history\": \"The message indicates' additional_kwargs={} response_metadata={'safety_ratings': []} id='run--dc7ff0d4-0814-4c29-a60d-e176630a4670'\n",
      ".........................................\n",
      ".........................................\n",
      "content=' a recent event (yelling at son) that is causing current negative feelings. There is no information about the duration or frequency of this behavior or any past related' additional_kwargs={} response_metadata={'safety_ratings': []} id='run--dc7ff0d4-0814-4c29-a60d-e176630a4670'\n",
      ".........................................\n",
      ".........................................\n",
      "content=' experiences.\"\\n}\\n```' additional_kwargs={} response_metadata={'finish_reason': 'STOP', 'model_name': 'gemini-2.0-flash-lite', 'safety_ratings': []} id='run--dc7ff0d4-0814-4c29-a60d-e176630a4670'\n",
      ".........................................\n",
      "response_content```json\n",
      "{\n",
      "  \"presenting_problem\": \"Yelling at son and feeling like a horrible parent.\",\n",
      "  \"history\": \"The message indicates a recent event (yelling at son) that is causing current negative feelings. There is no information about the duration or frequency of this behavior or any past related experiences.\"\n",
      "}\n",
      "```\n",
      "            GOT JSON OR NOT-----------\n",
      "Yelling at son and feeling like a horrible parent.\n",
      "                  --------------INTAKE NODE   OUT---------------------\n",
      ".........................................\n",
      "content='= presenting Problem = Yelling at son and feeling like a horrible parent. = history = The message indicates a recent event (yelling at son) that is causing current negative feelings. There is no information about the duration or frequency of this behavior or any past related experiences.' additional_kwargs={} response_metadata={} id='778fd873-6bea-4af9-9bd0-53f4b0d34fb0'\n",
      ".........................................\n",
      "                  --------------case_formulation_node---------------------\n",
      "                  --------------case_formulation_node   OUT---------------------\n",
      ".........................................\n",
      "content='{\"activating_event\": \"Yelling at son\", \"beliefs\": [\\'Feeling like a horrible parent\\'], \"consequences\": [\\'Feeling like a horrible parent\\']}' additional_kwargs={} response_metadata={} id='14db947d-f376-4de6-9a49-3ff8bdb5902c'\n",
      ".........................................\n"
     ]
    }
   ],
   "source": [
    "for message_chunk,metadata in app.stream( \n",
    "    initial_state,\n",
    "    stream_mode=\"messages\",\n",
    "    \n",
    "):\n",
    "    print(\".........................................\")\n",
    "    print(message_chunk)\n",
    "    print(\".........................................\")\n",
    "\n",
    "    # if message_chunk.content:\n",
    "    #     print(message_chunk.content,  end = \"|\",flush=True)\n",
    "\n",
    "    # print(\"\\n\")\n",
    "    # print()\n",
    "    # print(metadata)\n"
   ]
  },
  {
   "cell_type": "code",
   "execution_count": null,
   "id": "2f8dee14",
   "metadata": {},
   "outputs": [
    {
     "name": "stdout",
     "output_type": "stream",
     "text": [
      "\u001b[31m --------------INTAKE NODE---------------------\u001b[0m\n",
      "\u001b[31m            GOT JSON OR NOT-----------\u001b[0m\n",
      "\u001b[31mYelling at son\u001b[0m\n",
      "I| understand you|'re feeling terrible about yelling at your son and the history of this behavior, leading you| to feel like a bad parent.\n",
      "\n",
      "It's completely understandable that you're experiencing| these difficult emotions.\n",
      "\n",
      "Let's work together to explore the thoughts and feelings driving this and develop healthier responses.\n",
      "|\u001b[31m                  --------------INTAKE NODE   OUT---------------------\u001b[0m\n",
      "I understand you're feeling terrible about yelling at your son and the history of this behavior, leading you to feel like a bad parent.\n",
      "\n",
      "It's completely understandable that you're experiencing these difficult emotions.\n",
      "\n",
      "Let's work together to explore the thoughts and feelings driving this and develop healthier responses.\n",
      "|\u001b[31m                  --------------case_formulation_node---------------------\u001b[0m\n",
      "\u001b[31m                  --------------case_formulation_node   OUT---------------------\u001b[0m\n",
      "{\"activating_event\": \"Yelling at son\", \"beliefs\": ['Feels like a horrible parent'], \"consequences\": []}|"
     ]
    }
   ],
   "source": [
    "for message_chunk,metadata in app.stream( \n",
    "    initial_state,\n",
    "    stream_mode=\"messages\",\n",
    "    \n",
    "):\n",
    "  \n",
    "\n",
    "    if message_chunk.content:\n",
    "         print(message_chunk.content,  end = \"|\",flush=True)"
   ]
  },
  {
   "cell_type": "markdown",
   "id": "9aeee8fc",
   "metadata": {},
   "source": [
    "# Screening Tool"
   ]
  },
  {
   "cell_type": "code",
   "execution_count": null,
   "id": "3fb758c5",
   "metadata": {},
   "outputs": [],
   "source": [
    "def should_continue(state: AgentState) -> str:\n",
    "    \n",
    "    messages = state[\"messages\"]\n",
    "    if not messages:\n",
    "        return \"end\"\n",
    "    \n",
    "    last_message = messages[-1]\n",
    "    \n",
    "   \n",
    "    if hasattr(last_message, 'tool_calls') and last_message.tool_calls:\n",
    "        return \"continue\"\n",
    "    else:\n",
    "\n",
    "        print(\"Ending tool execution\")\n",
    "        return \"end\""
   ]
  },
  {
   "cell_type": "code",
   "execution_count": null,
   "id": "27a5a934",
   "metadata": {},
   "outputs": [],
   "source": [
    "\n",
    "def Screening_Node( state: AgentState) -> AgentState:\n",
    "            print_red(\"\\n                  --------------Screening_Tool---------------------\")\n",
    "\n",
    "            if state['next_node']:\n",
    "                   return\n",
    "       \n",
    "          \n",
    "            \n",
    "            prompt = (\n",
    "                \"You are a CBT therapist doing an Screening Tool test You are provided with user current information Based on The informatin you can run depression and anxiety screening tools. [run_phq9_assessment, run_gad7_assessment].You can run just one tool only.  User information is Shown\\n\\n\"\n",
    "               \n",
    "                f\"Presenting Problem: {state['presenting_problem']}\\n\"\n",
    "                f\"history: {state['history']}\\n\"\n",
    "                f\"Belief: {state['beliefs']}\\n\"\n",
    "                f\"Consequences: {state['consequences']}\\n\"\n",
    "             \n",
    "          \n",
    "            )\n",
    "            \n",
    "           \n",
    "            response = llm.invoke([HumanMessage(content=prompt)])\n",
    "          \n",
    "         \n",
    "            if hasattr(response, 'tool_calls') and response.tool_calls:\n",
    "                for tool_call in response.tool_calls:\n",
    "                    print_red(f\"\\n Running {tool_call['name']}...\")\n",
    "                   \n",
    "                 \n",
    "\n",
    "            state[\"next_node\"] = True\n",
    "\n",
    "            print_red(\"\\n                  --------------Screening_Tool  OUT---------------------\")\n",
    "\n",
    "            \n",
    "            return {\n",
    "                **state,\n",
    "                \"messages\": [response],\n",
    "                \n",
    "            }\n",
    "\n",
    "    "
   ]
  },
  {
   "cell_type": "code",
   "execution_count": null,
   "id": "4db0d2f9",
   "metadata": {},
   "outputs": [
    {
     "data": {
      "image/png": "[encoded data removed]",
      "text/plain": [
       "<langgraph.graph.state.CompiledStateGraph object at 0x00000217816D7CE0>"
      ]
     },
     "metadata": {},
     "output_type": "display_data"
    }
   ],
   "source": [
    "graph = StateGraph(AgentState)\n",
    "graph.add_node(\"intake_node\", intake_node)\n",
    "graph.add_node(\"Case_Formulatin\", case_formulation_node)\n",
    "graph.add_node(\"Screening_Node\",Screening_Node)\n",
    "\n",
    "\n",
    "graph.set_entry_point(\"intake_node\")\n",
    "graph.add_edge(\"intake_node\",\"Case_Formulatin\")\n",
    "graph.add_edge(\"Case_Formulatin\",\"Screening_Node\")\n",
    "\n",
    "\n",
    "\n",
    "# ToolNode()\n",
    "tool_node = ToolNode(tools=tools)\n",
    "graph.add_node(\"PHQ9/GAD-7 TOOLS\", tool_node)\n",
    "\n",
    "\n",
    "\n",
    "graph.add_conditional_edges(\n",
    "    \"Screening_Node\",\n",
    "    should_continue,\n",
    "   {\n",
    "        \"continue\": \"PHQ9/GAD-7 TOOLS\",\n",
    "        \"end\": END,\n",
    "\n",
    "   }\n",
    ")\n",
    "\n",
    "graph.add_edge(\"PHQ9/GAD-7 TOOLS\", \"Screening_Node\")\n",
    "\n",
    "\n",
    "graph.set_finish_point(\"Screening_Node\")\n",
    "graph.compile()"
   ]
  },
  {
   "cell_type": "code",
   "execution_count": null,
   "id": "6684741f",
   "metadata": {},
   "outputs": [],
   "source": [
    "user_input = \"I yelled at my son today. I feel like a horrible parent.\"\n",
    "\n",
    "messages = [HumanMessage(content=user_input)]\n",
    "    \n",
    "\n",
    "initial_state = {         \n",
    "        \"messages\": messages, \n",
    "        \"next_node\" : False\n",
    "    }"
   ]
  },
  {
   "cell_type": "code",
   "execution_count": null,
   "id": "d119757e",
   "metadata": {},
   "outputs": [
    {
     "name": "stdout",
     "output_type": "stream",
     "text": [
      "\u001b[31m --------------INTAKE NODE---------------------\u001b[0m\n",
      "\u001b[31m            GOT JSON OR NOT-----------\u001b[0m\n",
      "\u001b[31mYelling at son\u001b[0m\n",
      "I understand you|'re feeling down about yelling at your son and feeling like a bad parent. It|'s tough when we act in ways that go against our values.  Let|'s explore some strategies to manage these feelings and improve your interactions with your son.\n",
      "|\u001b[31m                  --------------INTAKE NODE   OUT---------------------\u001b[0m\n",
      "= presenting Problem = Yelling at son = history = Feels like a horrible parent|\u001b[31m                  --------------case_formulation_node---------------------\u001b[0m\n",
      "\u001b[31m                  --------------case_formulation_node   OUT---------------------\u001b[0m\n",
      "{\"activating_event\": \"Yelling at son\", \"beliefs\": ['Feels like a horrible parent'], \"consequences\": []}|\u001b[31m                  --------------Screening_Tool---------------------\u001b[0m\n",
      "Okay|, I will run the PHQ-9 and GAD-7 assessments. Based on the| user's information, I will start with the PHQ-9 assessment to| screen for depression.\n",
      "|\u001b[31mresponse\u001b[0m\n",
      "\u001b[31mOkay, I will run the PHQ-9 and GAD-7 assessments. Based on the user's information, I will start with the PHQ-9 assessment to screen for depression.\n",
      "\u001b[0m\n",
      "\u001b[31mcontent=\"Okay, I will run the PHQ-9 and GAD-7 assessments. Based on the user's information, I will start with the PHQ-9 assessment to screen for depression.\\n\" additional_kwargs={'function_call': {'name': 'run_phq9_assessment', 'arguments': '{}'}} response_metadata={'safety_ratings': [], 'finish_reason': 'STOP', 'model_name': 'gemini-2.0-flash-lite'} id='run--beb4f1bd-beea-48f8-a7f0-0f39d1afcd70' tool_calls=[{'name': 'run_phq9_assessment', 'args': {}, 'id': '605c52aa-e074-4bbc-bbcc-138dd79110a6', 'type': 'tool_call'}]\u001b[0m\n",
      "\u001b[31m\n",
      " Running run_phq9_assessment...\u001b[0m\n",
      "🔧 Running PHQ-9 Assessment\n",
      "🤖: Over the last 2 weeks, how often have you felt little interest or pleasure in doing things?\n",
      "🤖: How often have you felt down, depressed, or hopeless?\n",
      "🤖: How often have you had trouble falling or staying asleep?\n",
      "{\"tool_name\": \"PHQ9\", \"score\": 0}|\u001b[31m                  --------------Screening_Tool---------------------\u001b[0m\n",
      "Ending tool execution\n"
     ]
    }
   ],
   "source": [
    "app = graph.compile()\n",
    "for message_chunk,metadata in app.stream( \n",
    "    initial_state,\n",
    "    stream_mode=\"messages\",\n",
    "    \n",
    "):\n",
    "  \n",
    "\n",
    "    if message_chunk.content:\n",
    "         print(message_chunk.content,  end = \"|\",flush=True)\n",
    "         "
   ]
  },
  {
   "cell_type": "code",
   "execution_count": null,
   "id": "e732eebb",
   "metadata": {},
   "outputs": [
    {
     "name": "stdout",
     "output_type": "stream",
     "text": [
      "\u001b[31m --------------INTAKE NODE---------------------\u001b[0m\n",
      "\u001b[31m            GOT JSON OR NOT-----------\u001b[0m\n",
      "\u001b[31mYelling at son\u001b[0m\n",
      "\n",
      "[AIMessageChunk] I |\n",
      "\n",
      "[AIMessageChunk]  understand you're struggling with yelling at your son and feeling like a bad parent. It |\n",
      "\n",
      "[AIMessageChunk] 's tough when we don't act the way we want to. I can help you |\n",
      "\n",
      "[AIMessageChunk]  explore some strategies to manage these feelings and behaviors. Would you like to start with a quick anxiety or depression assessment?\n",
      " |\n",
      "\u001b[31m                  --------------INTAKE NODE   OUT---------------------\u001b[0m\n",
      "\n",
      "[AIMessage] I understand you're struggling with yelling at your son and feeling like a bad parent. It's tough when we don't act the way we want to. I can help you explore some strategies to manage these feelings and behaviors. Would you like to start with a quick anxiety or depression assessment?\n",
      " |\n",
      "\u001b[31m                  --------------case_formulation_node---------------------\u001b[0m\n",
      "\u001b[31m                  --------------case_formulation_node   OUT---------------------\u001b[0m\n",
      "\n",
      "[AIMessage] {\"activating_event\": \"Yelling at son\", \"beliefs\": [], \"consequences\": ['Feeling like a horrible parent']} |\n",
      "\u001b[31m                  --------------Screening_Tool---------------------\u001b[0m\n",
      "\n",
      "[AIMessageChunk] Okay |\n",
      "\n",
      "[AIMessageChunk] , I will run the PHQ-9 and GAD-7 assessments to |\n",
      "\n",
      "[AIMessageChunk]  screen for depression and anxiety, respectively. Based on the user's presenting problem and |\n",
      "\n",
      "[AIMessageChunk]  history, I will start by running the PHQ-9 assessment for depression.\n",
      " |\n",
      "\u001b[31mresponse\u001b[0m\n",
      "\u001b[31mOkay, I will run the PHQ-9 and GAD-7 assessments to screen for depression and anxiety, respectively. Based on the user's presenting problem and history, I will start by running the PHQ-9 assessment for depression.\n",
      "\u001b[0m\n",
      "\u001b[31mcontent=\"Okay, I will run the PHQ-9 and GAD-7 assessments to screen for depression and anxiety, respectively. Based on the user's presenting problem and history, I will start by running the PHQ-9 assessment for depression.\\n\" additional_kwargs={'function_call': {'name': 'run_phq9_assessment', 'arguments': '{}'}} response_metadata={'safety_ratings': [], 'finish_reason': 'STOP', 'model_name': 'gemini-2.0-flash-lite'} id='run--7d7032a3-9930-49f3-9075-9fcea54e9dd1' tool_calls=[{'name': 'run_phq9_assessment', 'args': {}, 'id': 'b7655424-d7ad-48c5-879c-40d729181e2b', 'type': 'tool_call'}]\u001b[0m\n",
      "\u001b[31m\n",
      " Running run_phq9_assessment...\u001b[0m\n",
      "🔧 Running PHQ-9 Assessment\n",
      "🤖: Over the last 2 weeks, how often have you felt little interest or pleasure in doing things?\n",
      "🤖: How often have you felt down, depressed, or hopeless?\n",
      "🤖: How often have you had trouble falling or staying asleep?\n",
      "\n",
      "[ToolMessage] {\"tool_name\": \"PHQ9\", \"score\": 9} |\n",
      "\u001b[31m                  --------------Screening_Tool---------------------\u001b[0m\n",
      "Ending tool execution\n"
     ]
    }
   ],
   "source": [
    "app = graph.compile()\n",
    "for message_chunk,metadata in app.stream( \n",
    "    initial_state,\n",
    "    stream_mode=\"messages\",\n",
    "    \n",
    "):\n",
    "  \n",
    "\n",
    "    if message_chunk.content:\n",
    "        #print(message_chunk.content,  end = \"|\",flush=True)\n",
    "        if isinstance(message_chunk,AIMessageChunk):\n",
    "            msg_type = type(message_chunk).__name__ \n",
    "            print(f\"\\n[{msg_type}] {message_chunk.content} |\", flush=True)\n",
    "        elif isinstance(message_chunk, ToolMessage):\n",
    "            print(\"🛠 Tool Output:\", message_chunk.content, end=\"|\", flush=True)"
   ]
  },
  {
   "cell_type": "code",
   "execution_count": null,
   "id": "50cf22c7",
   "metadata": {},
   "outputs": [],
   "source": [
    "user_input = \"Hello how can i help you Today. Are you struggling with Any Mental Distress\"\n",
    "messages = [HumanMessage(content=user_input)]\n",
    "initial_state = {         \n",
    "            \"messages\": messages, \n",
    "            \"next_node\" : False\n",
    "        }"
   ]
  },
  {
   "cell_type": "code",
   "execution_count": null,
   "id": "c01478fa",
   "metadata": {},
   "outputs": [],
   "source": [
    "def take_input():\n",
    "    user_input = input(\"Hello how can i help you Today. Are you struggling with Any Mental Distress\")\n",
    "    messages = [HumanMessage(content=user_input)]\n",
    "        \n",
    "       \n",
    "    initial_state = {         \n",
    "            \"messages\": messages, \n",
    "            \"next_node\" : False\n",
    "        }\n",
    "    return initial_state"
   ]
  },
  {
   "cell_type": "code",
   "execution_count": null,
   "id": "16a678a1",
   "metadata": {},
   "outputs": [
    {
     "name": "stdout",
     "output_type": "stream",
     "text": [
      "👱‍♂️  USER: I yelled at my son today. I feel like a horrible parent\n",
      "\u001b[31m --------------INTAKE NODE---------------------\u001b[0m\n",
      "\u001b[31mBOT\u001b[0m\n",
      "I understand you're feeling like a horrible parent because you've been yelling at your son. It's tough when we feel like we're not living up to our own expectations. Would you like to take an assessment to evaluate your anxiety or depression?\n",
      "\u001b[31m                  --------------INTAKE NODE   OUT---------------------\u001b[0m\n",
      "              Process Happend in INTAKE NODE \n",
      "= presenting Problem = Yelling at son = history = Feels like a horrible parent\n",
      "\u001b[31m                  --------------case_formulation_node---------------------\u001b[0m\n",
      "\u001b[31m                  --------------case_formulation_node   OUT---------------------\u001b[0m\n",
      "              Process Happend in Case Formulatin NODE \n",
      "{\"activating_event\": \"Yelling at son\", \"beliefs\": ['Feels like a horrible parent'], \"consequences\": []}\n",
      "\u001b[31m\n",
      "                  --------------Screening_Tool---------------------\u001b[0m\n",
      "\u001b[31mBOT\u001b[0m\n",
      "Okay, I will run the PHQ-9 and GAD-7 assessments to screen for depression and anxiety, respectively. Given the user's presenting problem and history, I will start with the PHQ-9 assessment for depression.\n",
      "\u001b[31m\n",
      " Running run_phq9_assessment...\u001b[0m\n",
      "\u001b[31m\n",
      "                  --------------Screening_Tool  OUT---------------------\u001b[0m\n",
      "🔧 Running PHQ-9 Assessment\n",
      "🤖: Over the last 2 weeks, how often have you felt little interest or pleasure in doing things?\n",
      "🤖: How often have you felt down, depressed, or hopeless?\n",
      "🤖: How often have you had trouble falling or staying asleep?\n",
      "\u001b[31m TOOL Process OUT\u001b[0m\n",
      "{\"tool_name\": \"PHQ9\", \"score\": 0}|\u001b[31m\n",
      "                  --------------Screening_Tool---------------------\u001b[0m\n",
      "Ending tool execution\n"
     ]
    }
   ],
   "source": [
    "app = graph.compile()\n",
    "last_type = None  \n",
    "\n",
    "initial_state = take_input()\n",
    "\n",
    "print(\"👱‍♂️  USER:\", initial_state[\"messages\"][0].content)\n",
    "\n",
    "for message_chunk, metadata in app.stream(initial_state, stream_mode=\"messages\"):\n",
    "    if message_chunk.content:\n",
    "        msg_type = type(message_chunk).__name__\n",
    "\n",
    "      \n",
    "        if msg_type != last_type:\n",
    "\n",
    "            if  msg_type==\"AIMessageChunk\":\n",
    "\n",
    "                 print_red(\"BOT\")\n",
    "            elif  msg_type== \"ToolMessage\":\n",
    "\n",
    "                 print_red(\" TOOL Process OUT\")\n",
    "         \n",
    "            \n",
    "            last_type = msg_type\n",
    "\n",
    "        if isinstance(message_chunk, AIMessageChunk):\n",
    "            print(message_chunk.content, end=\"\", flush=True)\n",
    "        elif isinstance(message_chunk, ToolMessage):\n",
    "            print( message_chunk.content, end=\"|\", flush=True)\n",
    "        elif isinstance(message_chunk, HumanMessage):\n",
    "            print(\"👱‍♂️  USER:\", message_chunk.content, end=\"|\", flush=True)\n",
    "        elif isinstance(message_chunk, FunctionMessage):\n",
    "\n",
    "\n",
    "            if metadata[\"langgraph_node\"] == \"intake_node\":\n",
    "                print(7*\"  \"+\"Process Happend in INTAKE NODE \")\n",
    "                print( message_chunk.content)\n",
    "\n",
    "            elif metadata[\"langgraph_node\"] == \"Case_Formulatin\":\n",
    "                print(7*\"  \"+\"Process Happend in Case Formulatin NODE \")\n",
    "                print( message_chunk.content)\n",
    "       \n",
    "\n"
   ]
  },
  {
   "cell_type": "code",
   "execution_count": null,
   "id": "aa71cf89",
   "metadata": {},
   "outputs": [],
   "source": []
  }
 ],
 "metadata": {
  "kernelspec": {
   "display_name": "Python 3",
   "language": "python",
   "name": "python3"
  },
  "language_info": {
   "codemirror_mode": {
    "name": "ipython",
    "version": 3
   },
   "file_extension": ".py",
   "mimetype": "text/x-python",
   "name": "python",
   "nbconvert_exporter": "python",
   "pygments_lexer": "ipython3",
   "version": "3.12.4"
  }
 },
 "nbformat": 4,
 "nbformat_minor": 5
}
