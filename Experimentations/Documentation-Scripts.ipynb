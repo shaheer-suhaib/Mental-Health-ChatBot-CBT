{
 "cells": [
  {
   "cell_type": "markdown",
   "id": "895ae235",
   "metadata": {},
   "source": [
    "# with langgrpah"
   ]
  },
  {
   "cell_type": "code",
   "execution_count": null,
   "id": "f2f4ac98",
   "metadata": {},
   "outputs": [],
   "source": [
    "from typing import Annotated, Sequence, TypedDict\n",
    "from dataclasses import dataclass\n",
    "from langgraph.graph import StateGraph, END\n",
    "#from langgraph.utils.input_annotations import add_messages\n",
    "from operator import add as add_messages\n",
    "\n",
    "from langchain_core.messages import BaseMessage, HumanMessage, AIMessage\n",
    "\n",
    "\n",
    "class State(TypedDict):\n",
    "    topic: str\n",
    "    messages: Annotated[Sequence[BaseMessage], add_messages]\n",
    "\n",
    "# Define node: simulate LLM replying to the last human message\n",
    "def respond_node(state: State) -> dict:\n",
    "    last_msg = state[\"messages\"][-1].content \n",
    "    reply = f\"Echo: {last_msg}\"             \n",
    "    new_ai_msg = AIMessage(content=reply)\n",
    "    return {\"messages\": [new_ai_msg]}         \n",
    "\n",
    "# Build graph\n",
    "graph = (\n",
    "    StateGraph(State)\n",
    "    .add_node(\"respond\", respond_node)\n",
    "    .set_entry_point(\"respond\")\n",
    "    .add_edge(\"respond\", END)\n",
    "    .compile()\n",
    ")\n",
    "\n"
   ]
  },
  {
   "cell_type": "code",
   "execution_count": 15,
   "id": "a9ba8d6a",
   "metadata": {},
   "outputs": [
    {
     "data": {
      "image/png": "[encoded data removed]",
      "text/plain": [
       "<langgraph.graph.state.CompiledStateGraph object at 0x0000022B40247410>"
      ]
     },
     "execution_count": 15,
     "metadata": {},
     "output_type": "execute_result"
    }
   ],
   "source": [
    "graph"
   ]
  },
  {
   "cell_type": "code",
   "execution_count": 32,
   "id": "94196952",
   "metadata": {},
   "outputs": [],
   "source": [
    "\n",
    "# First run — with one user message\n",
    "state1 = {\n",
    "    \"topic\": \"chat\",\n",
    "    \"messages\": [HumanMessage(content=\"Hello, who are you?\")]\n",
    "}\n",
    "result1 = graph.invoke(state1)\n",
    "\n"
   ]
  },
  {
   "cell_type": "code",
   "execution_count": 33,
   "id": "c7e277c4",
   "metadata": {},
   "outputs": [
    {
     "data": {
      "text/plain": [
       "{'topic': 'chat',\n",
       " 'messages': [HumanMessage(content='Hello, who are you?', additional_kwargs={}, response_metadata={}),\n",
       "  AIMessage(content='Echo: Hello, who are you?', additional_kwargs={}, response_metadata={})]}"
      ]
     },
     "execution_count": 33,
     "metadata": {},
     "output_type": "execute_result"
    }
   ],
   "source": [
    "result1"
   ]
  },
  {
   "cell_type": "code",
   "execution_count": 26,
   "id": "50bf986a",
   "metadata": {},
   "outputs": [
    {
     "data": {
      "text/plain": [
       "[HumanMessage(content='Hello, who are you?', additional_kwargs={}, response_metadata={}),\n",
       " AIMessage(content='Echo: Hello, who are you?', additional_kwargs={}, response_metadata={})]"
      ]
     },
     "execution_count": 26,
     "metadata": {},
     "output_type": "execute_result"
    }
   ],
   "source": [
    "result1[\"messages\"]"
   ]
  },
  {
   "cell_type": "code",
   "execution_count": 23,
   "id": "0cde4e66",
   "metadata": {},
   "outputs": [
    {
     "name": "stdout",
     "output_type": "stream",
     "text": [
      "=== After First Call ===\n",
      "HumanMessage: Hello, who are you?\n",
      "AIMessage: Echo: Hello, who are you?\n"
     ]
    }
   ],
   "source": [
    "print(\"=== After First Call ===\")\n",
    "for m in result1[\"messages\"]:\n",
    "    print(f\"{m.__class__.__name__}: {m.content}\")"
   ]
  },
  {
   "cell_type": "code",
   "execution_count": 34,
   "id": "44c24cfb",
   "metadata": {},
   "outputs": [],
   "source": [
    "\n",
    "# Second run — send back the updated message list\n",
    "state2 = {\n",
    "    \"topic\": \"chat\",\n",
    "    \"messages\":  [HumanMessage(content=\"Tell me a joke.\")]\n",
    "}\n",
    "result2 = graph.invoke(state2)\n"
   ]
  },
  {
   "cell_type": "code",
   "execution_count": 35,
   "id": "88e9686c",
   "metadata": {},
   "outputs": [
    {
     "data": {
      "text/plain": [
       "{'topic': 'chat',\n",
       " 'messages': [HumanMessage(content='Tell me a joke.', additional_kwargs={}, response_metadata={}),\n",
       "  AIMessage(content='Echo: Tell me a joke.', additional_kwargs={}, response_metadata={})]}"
      ]
     },
     "execution_count": 35,
     "metadata": {},
     "output_type": "execute_result"
    }
   ],
   "source": [
    "result2"
   ]
  },
  {
   "cell_type": "code",
   "execution_count": 40,
   "id": "e6d422ce",
   "metadata": {},
   "outputs": [],
   "source": [
    "# with  CONFIG"
   ]
  },
  {
   "cell_type": "code",
   "execution_count": null,
   "id": "64a02914",
   "metadata": {},
   "outputs": [
    {
     "name": "stdout",
     "output_type": "stream",
     "text": [
      "After first message:\n",
      "  HumanMessage: Hello, who are you?\n",
      "  AIMessage: Echo: Hello, who are you?\n",
      "\n",
      "After second message:\n",
      "  HumanMessage: Hello, who are you?\n",
      "  AIMessage: Echo: Hello, who are you?\n",
      "  HumanMessage: Tell me a joke.\n",
      "  AIMessage: Echo: Tell me a joke.\n",
      "\n",
      "After third message:\n",
      "  HumanMessage: Hello, who are you?\n",
      "  AIMessage: Echo: Hello, who are you?\n",
      "  HumanMessage: Tell me a joke.\n",
      "  AIMessage: Echo: Tell me a joke.\n",
      "  HumanMessage: What's the weather like?\n",
      "  AIMessage: Echo: What's the weather like?\n"
     ]
    }
   ],
   "source": [
    "from typing import Annotated, Sequence, TypedDict\n",
    "from langchain_core.messages import BaseMessage, HumanMessage, AIMessage\n",
    "from langgraph.graph import StateGraph, END\n",
    "from langgraph.checkpoint.memory import MemorySaver\n",
    "from operator import add as add_messages\n",
    "\n",
    "# Define the state - add_messages will handle accumulation\n",
    "class State(TypedDict):\n",
    "    topic: str\n",
    "    messages: Annotated[Sequence[BaseMessage], add_messages]\n",
    "\n",
    "# Define node: simulate LLM replying to the last human message\n",
    "def respond_node(state: State) -> dict:\n",
    "    last_msg = state[\"messages\"][-1].content  \n",
    "    reply = f\"Echo: {last_msg}\"             \n",
    "    new_ai_msg = AIMessage(content=reply)\n",
    "    return {\"messages\": [new_ai_msg]}        \n",
    "\n",
    "\n",
    "checkpointer = MemorySaver()\n",
    "graph = (\n",
    "    StateGraph(State)\n",
    "    .add_node(\"respond\", respond_node)\n",
    "    .set_entry_point(\"respond\")\n",
    "    .add_edge(\"respond\", END)\n",
    "    .compile(checkpointer=checkpointer)\n",
    ")\n",
    "\n",
    "# Now add_messages works its magic! ✨\n",
    "config = {\"configurable\": {\"thread_id\": \"conversation-1\"}}\n",
    "\n",
    "# First run - just send the new message\n",
    "result1 = graph.invoke({\n",
    "    \"topic\": \"chat\",\n",
    "    \"messages\": [HumanMessage(content=\"Hello, who are you?\")]\n",
    "},config=config)\n",
    "\n",
    "print(\"After first message:\")\n",
    "for msg in result1[\"messages\"]:\n",
    "    print(f\"  {type(msg).__name__}: {msg.content}\")\n",
    "\n",
    "# Second run - just send the NEW message, add_messages handles the rest!\n",
    "result2 = graph.invoke({\n",
    "    \"messages\": [HumanMessage(content=\"Tell me a joke.\")]\n",
    "},config=config)\n",
    "\n",
    "print(\"\\nAfter second message:\")\n",
    "for msg in result2[\"messages\"]:\n",
    "    print(f\"  {type(msg).__name__}: {msg.content}\")\n",
    "\n",
    "# Third run - keep the conversation going\n",
    "result3 = graph.invoke({\n",
    "    \"messages\": [HumanMessage(content=\"What's the weather like?\")]\n",
    "},config=config)\n",
    "\n",
    "print(\"\\nAfter third message:\")\n",
    "for msg in result3[\"messages\"]:\n",
    "    print(f\"  {type(msg).__name__}: {msg.content}\")\n",
    "\n"
   ]
  },
  {
   "cell_type": "code",
   "execution_count": 42,
   "id": "b183075d",
   "metadata": {},
   "outputs": [
    {
     "name": "stdout",
     "output_type": "stream",
     "text": [
      "\n",
      "New conversation thread:\n",
      "  HumanMessage: Start fresh conversation\n",
      "  AIMessage: Echo: Start fresh conversation\n"
     ]
    }
   ],
   "source": [
    "# Different conversation thread\n",
    "config2 = {\"configurable\": {\"thread_id\": \"conversation-2\"}}\n",
    "result4 = graph.invoke({\n",
    "    \"topic\": \"different_chat\",\n",
    "    \"messages\": [HumanMessage(content=\"Start fresh conversation\")]\n",
    "}, config2)\n",
    "\n",
    "print(\"\\nNew conversation thread:\")\n",
    "for msg in result4[\"messages\"]:\n",
    "    print(f\"  {type(msg).__name__}: {msg.content}\")"
   ]
  },
  {
   "cell_type": "code",
   "execution_count": 38,
   "id": "bf4cb66b",
   "metadata": {},
   "outputs": [
    {
     "name": "stdout",
     "output_type": "stream",
     "text": [
      "=== WITHOUT CHECKPOINTER ===\n",
      "After first message:\n",
      "  HumanMessage: Hello, who are you?\n",
      "  AIMessage: Echo: Hello, who are you?\n",
      "\n",
      "After second message (previous messages LOST!):\n",
      "  HumanMessage: Tell me a joke.\n",
      "  AIMessage: Echo: Tell me a joke.\n",
      "\n",
      "==================================================\n",
      "SOLUTION: You need to manually maintain history\n",
      "==================================================\n",
      "\n",
      "With manual history management:\n",
      "  HumanMessage: Hello, who are you?\n",
      "  AIMessage: Echo: Hello, who are you?\n",
      "  HumanMessage: What's the weather?\n",
      "  AIMessage: Echo: What's the weather?\n"
     ]
    }
   ],
   "source": [
    "from typing import Annotated, Sequence, TypedDict\n",
    "from langchain_core.messages import BaseMessage, HumanMessage, AIMessage\n",
    "from langgraph.graph import StateGraph, END\n",
    "from operator import add as add_messages\n",
    "\n",
    "class State(TypedDict):\n",
    "    topic: str\n",
    "    messages: Annotated[Sequence[BaseMessage], add_messages]\n",
    "\n",
    "def respond_node(state: State) -> dict:\n",
    "    last_msg = state[\"messages\"][-1].content\n",
    "    reply = f\"Echo: {last_msg}\"\n",
    "    new_ai_msg = AIMessage(content=reply)\n",
    "    return {\"messages\": [new_ai_msg]}  # add_messages works HERE within the execution\n",
    "\n",
    "# Compile without checkpointer\n",
    "graph = (\n",
    "    StateGraph(State)\n",
    "    .add_node(\"respond\", respond_node)\n",
    "    .set_entry_point(\"respond\")\n",
    "    .add_edge(\"respond\", END)\n",
    "    .compile()  # Fixed: Added compile()\n",
    ")\n",
    "\n",
    "print(\"=== WITHOUT CHECKPOINTER ===\")\n",
    "\n",
    "# First run - add_messages works WITHIN this execution\n",
    "result1 = graph.invoke({\n",
    "    \"topic\": \"chat\",\n",
    "    \"messages\": [HumanMessage(content=\"Hello, who are you?\")]\n",
    "})\n",
    "\n",
    "print(\"After first message:\")\n",
    "for msg in result1[\"messages\"]:\n",
    "    print(f\"  {type(msg).__name__}: {msg.content}\")\n",
    "\n",
    "# Second run - NO MEMORY! Previous messages are lost\n",
    "result2 = graph.invoke({\n",
    "    \"messages\": [HumanMessage(content=\"Tell me a joke.\")]\n",
    "})\n",
    "\n",
    "print(\"\\nAfter second message (previous messages LOST!):\")\n",
    "for msg in result2[\"messages\"]:\n",
    "    print(f\"  {type(msg).__name__}: {msg.content}\")\n",
    "\n",
    "print(\"\\n\" + \"=\"*50)\n",
    "print(\"SOLUTION: You need to manually maintain history\")\n",
    "print(\"=\"*50)\n",
    "\n",
    "# Manual approach (what you were doing originally)\n",
    "result3 = graph.invoke({\n",
    "    \"topic\": \"chat\",\n",
    "    \"messages\": result1[\"messages\"] + [HumanMessage(content=\"What's the weather?\")]\n",
    "})\n",
    "\n",
    "print(\"\\nWith manual history management:\")\n",
    "for msg in result3[\"messages\"]:\n",
    "    print(f\"  {type(msg).__name__}: {msg.content}\")"
   ]
  },
  {
   "cell_type": "markdown",
   "id": "c801a16d",
   "metadata": {},
   "source": [
    "# json st stream"
   ]
  },
  {
   "cell_type": "code",
   "execution_count": null,
   "id": "ed92ce86",
   "metadata": {},
   "outputs": [],
   "source": [
    "from langchain_core.runnables import Runnable\n",
    "from langchain_core.prompts import ChatPromptTemplate\n",
    "from langchain_core.messages import AIMessage\n",
    "\n",
    "from google.generativeai.types import GenerationConfig\n",
    "\n",
    "\n",
    "import google.generativeai as genai\n",
    "from dotenv import load_dotenv\n",
    "import os\n",
    "\n",
    "from langchain_google_genai import ChatGoogleGenerativeAI\n",
    "\n",
    "\n",
    "\n",
    "\n",
    "load_dotenv()\n",
    "GEMINI_API_KEY = os.getenv(\"GEMINI_API_KEYJ\")\n",
    "\n",
    "\n",
    "llm_json = genai.GenerativeModel(\n",
    "    model_name=\"gemini-2.0-flash-lite\",\n",
    "    generation_config=GenerationConfig(\n",
    "        response_mime_type=\"application/json\",\n",
    "        temperature=0\n",
    "    )\n",
    ")\n",
    "\n"
   ]
  },
  {
   "cell_type": "code",
   "execution_count": 3,
   "id": "61595600",
   "metadata": {},
   "outputs": [
    {
     "data": {
      "text/plain": [
       "genai.GenerativeModel(\n",
       "    model_name='models/gemini-2.0-flash-lite',\n",
       "    generation_config={'temperature': 0, 'response_mime_type': 'application/json'},\n",
       "    safety_settings={},\n",
       "    tools=None,\n",
       "    system_instruction=None,\n",
       "    cached_content=None\n",
       ")"
      ]
     },
     "execution_count": 3,
     "metadata": {},
     "output_type": "execute_result"
    }
   ],
   "source": [
    "llm_json"
   ]
  },
  {
   "cell_type": "code",
   "execution_count": 4,
   "id": "b77a00f4",
   "metadata": {},
   "outputs": [
    {
     "ename": "TypeError",
     "evalue": "Expected a Runnable, callable or dict.Instead got an unsupported type: <class 'google.generativeai.generative_models.GenerativeModel'>",
     "output_type": "error",
     "traceback": [
      "\u001b[1;31m---------------------------------------------------------------------------\u001b[0m",
      "\u001b[1;31mTypeError\u001b[0m                                 Traceback (most recent call last)",
      "Cell \u001b[1;32mIn[4], line 16\u001b[0m\n\u001b[0;32m      2\u001b[0m json_prompt \u001b[38;5;241m=\u001b[39m ChatPromptTemplate\u001b[38;5;241m.\u001b[39mfrom_template(\u001b[38;5;124m\"\"\"\u001b[39m\n\u001b[0;32m      3\u001b[0m \u001b[38;5;124mYou are a helpful assistant.\u001b[39m\n\u001b[0;32m      4\u001b[0m \u001b[38;5;124mExtract the presenting problem and emotional history from the following text as JSON only.\u001b[39m\n\u001b[1;32m   (...)\u001b[0m\n\u001b[0;32m     12\u001b[0m \u001b[38;5;124m}}\u001b[39m\n\u001b[0;32m     13\u001b[0m \u001b[38;5;124m\"\"\"\u001b[39m)\n\u001b[0;32m     15\u001b[0m \u001b[38;5;66;03m# Chain: prompt → LLM\u001b[39;00m\n\u001b[1;32m---> 16\u001b[0m json_chain: Runnable \u001b[38;5;241m=\u001b[39m \u001b[43mjson_prompt\u001b[49m\u001b[43m \u001b[49m\u001b[38;5;241;43m|\u001b[39;49m\u001b[43m \u001b[49m\u001b[43mllm_json\u001b[49m\n\u001b[0;32m     18\u001b[0m \u001b[38;5;66;03m# Input text to test\u001b[39;00m\n\u001b[0;32m     19\u001b[0m user_input \u001b[38;5;241m=\u001b[39m \u001b[38;5;124m\"\u001b[39m\u001b[38;5;124mI yelled at my son again. I feel terrible like I’m failing as a parent. This has been going on for weeks.\u001b[39m\u001b[38;5;124m\"\u001b[39m\n",
      "File \u001b[1;32md:\\software downloads\\Lib\\site-packages\\langchain_core\\runnables\\base.py:575\u001b[0m, in \u001b[0;36mRunnable.__or__\u001b[1;34m(self, other)\u001b[0m\n\u001b[0;32m    564\u001b[0m \u001b[38;5;28;01mdef\u001b[39;00m \u001b[38;5;21m__or__\u001b[39m(\n\u001b[0;32m    565\u001b[0m     \u001b[38;5;28mself\u001b[39m,\n\u001b[0;32m    566\u001b[0m     other: Union[\n\u001b[1;32m   (...)\u001b[0m\n\u001b[0;32m    572\u001b[0m     ],\n\u001b[0;32m    573\u001b[0m ) \u001b[38;5;241m-\u001b[39m\u001b[38;5;241m>\u001b[39m RunnableSerializable[Input, Other]:\n\u001b[0;32m    574\u001b[0m \u001b[38;5;250m    \u001b[39m\u001b[38;5;124;03m\"\"\"Compose this Runnable with another object to create a RunnableSequence.\"\"\"\u001b[39;00m\n\u001b[1;32m--> 575\u001b[0m     \u001b[38;5;28;01mreturn\u001b[39;00m RunnableSequence(\u001b[38;5;28mself\u001b[39m, \u001b[43mcoerce_to_runnable\u001b[49m\u001b[43m(\u001b[49m\u001b[43mother\u001b[49m\u001b[43m)\u001b[49m)\n",
      "File \u001b[1;32md:\\software downloads\\Lib\\site-packages\\langchain_core\\runnables\\base.py:5930\u001b[0m, in \u001b[0;36mcoerce_to_runnable\u001b[1;34m(thing)\u001b[0m\n\u001b[0;32m   5925\u001b[0m     \u001b[38;5;28;01mreturn\u001b[39;00m cast(\u001b[38;5;124m\"\u001b[39m\u001b[38;5;124mRunnable[Input, Output]\u001b[39m\u001b[38;5;124m\"\u001b[39m, RunnableParallel(thing))\n\u001b[0;32m   5926\u001b[0m msg \u001b[38;5;241m=\u001b[39m (\n\u001b[0;32m   5927\u001b[0m     \u001b[38;5;124mf\u001b[39m\u001b[38;5;124m\"\u001b[39m\u001b[38;5;124mExpected a Runnable, callable or dict.\u001b[39m\u001b[38;5;124m\"\u001b[39m\n\u001b[0;32m   5928\u001b[0m     \u001b[38;5;124mf\u001b[39m\u001b[38;5;124m\"\u001b[39m\u001b[38;5;124mInstead got an unsupported type: \u001b[39m\u001b[38;5;132;01m{\u001b[39;00m\u001b[38;5;28mtype\u001b[39m(thing)\u001b[38;5;132;01m}\u001b[39;00m\u001b[38;5;124m\"\u001b[39m\n\u001b[0;32m   5929\u001b[0m )\n\u001b[1;32m-> 5930\u001b[0m \u001b[38;5;28;01mraise\u001b[39;00m \u001b[38;5;167;01mTypeError\u001b[39;00m(msg)\n",
      "\u001b[1;31mTypeError\u001b[0m: Expected a Runnable, callable or dict.Instead got an unsupported type: <class 'google.generativeai.generative_models.GenerativeModel'>"
     ]
    }
   ],
   "source": [
    "\n",
    "# Create a ChatPromptTemplate\n",
    "json_prompt = ChatPromptTemplate.from_template(\"\"\"\n",
    "You are a helpful assistant.\n",
    "Extract the presenting problem and emotional history from the following text as JSON only.\n",
    "\n",
    "Text: {input}\n",
    "\n",
    "Respond in this JSON format only:\n",
    "{{\n",
    "  \"presenting_problem\": \"...\",\n",
    "  \"history\": \"...\"\n",
    "}}\n",
    "\"\"\")\n",
    "\n",
    "# Chain: prompt → LLM\n",
    "json_chain: Runnable = json_prompt | llm_json\n",
    "\n",
    "# Input text to test\n",
    "user_input = \"I yelled at my son again. I feel terrible like I’m failing as a parent. This has been going on for weeks.\"\n",
    "\n",
    "# Streaming the response\n",
    "print(\"\\n[Streaming JSON Extraction Output]\\n\")\n",
    "stream = json_chain.stream({\"input\": user_input})\n",
    "\n",
    "for chunk in stream:\n",
    "    print(chunk.content, end=\"\", flush=True)\n"
   ]
  },
  {
   "cell_type": "markdown",
   "id": "a9da6c09",
   "metadata": {},
   "source": [
    "# using ChatGoogleGenerativeAI to solve error"
   ]
  },
  {
   "cell_type": "code",
   "execution_count": 7,
   "id": "d73d922a",
   "metadata": {},
   "outputs": [
    {
     "name": "stdout",
     "output_type": "stream",
     "text": [
      "\n",
      "[Streaming JSON Extraction Output]\n",
      "\n",
      "```json\n",
      "{\n",
      "  \"presenting_problem\": \"Yelling at son, feeling terrible and like a failure as a parent\",\n",
      "  \"history\": \"This pattern of yelling has been occurring for weeks.\"\n",
      "}\n",
      "```\n"
     ]
    }
   ],
   "source": [
    "from langchain_core.prompts import ChatPromptTemplate\n",
    "from langchain_google_genai import ChatGoogleGenerativeAI\n",
    "from langchain_core.runnables import Runnable\n",
    "from langchain_core.messages import AIMessageChunk\n",
    "\n",
    "import os\n",
    "from dotenv import load_dotenv\n",
    "load_dotenv()\n",
    "\n",
    "# Get API key\n",
    "GEMINI_API_KEY = os.getenv(\"GEMINI_API_KEY\")\n",
    "\n",
    "# Gemini LangChain wrapper\n",
    "llm_json = ChatGoogleGenerativeAI(\n",
    "    model=\"gemini-1.5-flash\",  # or gemini-1.5-pro\n",
    "    google_api_key=GEMINI_API_KEY,\n",
    "    temperature=0,\n",
    "   # convert_system_message_to_human=True,\n",
    "   # stream=True  # <-- important for streaming\n",
    ")\n",
    "\n",
    "# JSON extraction prompt\n",
    "json_prompt = ChatPromptTemplate.from_template(\"\"\"\n",
    "You are a helpful assistant.\n",
    "Extract the presenting problem and emotional history from the following text as JSON only.\n",
    "\n",
    "Text: {input}\n",
    "\n",
    "Respond in this JSON format only:\n",
    "{{\n",
    "  \"presenting_problem\": \"...\",\n",
    "  \"history\": \"...\"\n",
    "}}\n",
    "\"\"\")\n",
    "\n",
    "# Runnable chain\n",
    "json_chain: Runnable = json_prompt | llm_json\n",
    "\n",
    "# Test input\n",
    "user_input = \"I yelled at my son again. I feel terrible like I’m failing as a parent. This has been going on for weeks.\"\n",
    "\n",
    "# Stream output\n",
    "print(\"\\n[Streaming JSON Extraction Output]\\n\")\n",
    "stream = json_chain.stream({\"input\": user_input})\n",
    "\n",
    "for chunk in stream:\n",
    "    if isinstance(chunk, AIMessageChunk):\n",
    "        print(chunk.content, end=\"\", flush=True)\n"
   ]
  },
  {
   "cell_type": "code",
   "execution_count": null,
   "id": "7cf326ed",
   "metadata": {},
   "outputs": [],
   "source": []
  }
 ],
 "metadata": {
  "kernelspec": {
   "display_name": "Python 3",
   "language": "python",
   "name": "python3"
  },
  "language_info": {
   "codemirror_mode": {
    "name": "ipython",
    "version": 3
   },
   "file_extension": ".py",
   "mimetype": "text/x-python",
   "name": "python",
   "nbconvert_exporter": "python",
   "pygments_lexer": "ipython3",
   "version": "3.12.4"
  }
 },
 "nbformat": 4,
 "nbformat_minor": 5
}
